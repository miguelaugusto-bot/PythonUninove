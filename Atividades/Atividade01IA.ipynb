{
 "cells": [
  {
   "cell_type": "markdown",
   "id": "ca49ad19",
   "metadata": {},
   "source": [
    "1 - Desenvolver um codigo que peça a idade e diga:\n",
    "Entrada grátis se idade < 6 ou idade >= 60\n",
    "senao paga meia se idade < 18\n",
    "do contrario é inteira"
   ]
  },
  {
   "cell_type": "code",
   "execution_count": 1,
   "id": "f7cb0a18",
   "metadata": {},
   "outputs": [
    {
     "name": "stdout",
     "output_type": "stream",
     "text": [
      "Paga meia\n"
     ]
    }
   ],
   "source": [
    "idade = int(input(\"Digite a sua idade: \"))\n",
    "\n",
    "if idade < 6 or idade >= 60:\n",
    "    print(\"Entrada Gratuita\")\n",
    "elif idade < 18:\n",
    "    print(\"Paga meia\")\n",
    "else:\n",
    "    print(\"Inteira\")"
   ]
  },
  {
   "cell_type": "markdown",
   "id": "698dc7c2",
   "metadata": {},
   "source": [
    "2 - Informar um numero inteiro e declarar se é impar ou par"
   ]
  },
  {
   "cell_type": "code",
   "execution_count": 11,
   "id": "d2ec8b27",
   "metadata": {},
   "outputs": [
    {
     "name": "stdout",
     "output_type": "stream",
     "text": [
      "O numero digitado é par.\n"
     ]
    }
   ],
   "source": [
    "n = int(input(\"Digite um numero: \"))\n",
    "\n",
    "if n % 2 == 0:\n",
    "    print(\"O numero digitado é par.\")\n",
    "else:\n",
    "    print(\"O numero digitado é ímpar.\")"
   ]
  },
  {
   "cell_type": "markdown",
   "id": "e78c5a31",
   "metadata": {},
   "source": [
    "3 - Receba três notas e mostre Aprovado se a média é >= 6 e reprovado se for 0 ou inferior"
   ]
  },
  {
   "cell_type": "code",
   "execution_count": 18,
   "id": "8a6c75e9",
   "metadata": {},
   "outputs": [
    {
     "name": "stdout",
     "output_type": "stream",
     "text": [
      "Reprovado\n"
     ]
    }
   ],
   "source": [
    "n1 = int(input(\"Digite a primeira nota: \"))\n",
    "n2 = int(input(\"Digite a segunda nota: \"))\n",
    "n3 = int(input(\"Digite a terceira nota: \"))\n",
    "\n",
    "media = (n1 + n2 + n3)/3\n",
    "\n",
    "if media >= 6:\n",
    "    print(\"Aprovado\")\n",
    "else:\n",
    "    print(\"Reprovado\")"
   ]
  }
 ],
 "metadata": {
  "kernelspec": {
   "display_name": "Python 3",
   "language": "python",
   "name": "python3"
  },
  "language_info": {
   "codemirror_mode": {
    "name": "ipython",
    "version": 3
   },
   "file_extension": ".py",
   "mimetype": "text/x-python",
   "name": "python",
   "nbconvert_exporter": "python",
   "pygments_lexer": "ipython3",
   "version": "3.12.1"
  }
 },
 "nbformat": 4,
 "nbformat_minor": 5
}
