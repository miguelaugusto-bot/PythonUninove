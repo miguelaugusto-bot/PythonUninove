{
 "cells": [
  {
   "cell_type": "markdown",
   "id": "bc16e9d4",
   "metadata": {},
   "source": [
    "Visualização com matplotlib: dispersão, pizza e coluna (barras)\n",
    "\n",
    "Objetivo\n",
    "Gerar dois gráficos em Python usando matplotlib a partir de arrays fornecidos, garantindo títulos, rótulos de eixos, legenda quando aplicável\n",
    "\n",
    "Pizza\n",
    "\n",
    "participação percentual por canal de venda (soma 100)\n",
    "canais = [\"Loja Física\", \"E-commerce\", \"Marketplace\", \"Inside Sales\"]\n",
    "participacao = [35, 40, 15, 10]\n",
    "Pergunta: como está distribuída a participação por canal?\n",
    "Instruções:\n",
    "a) Usar canais e participacao.\n",
    "b) Exibir porcentagens com autopct.\n",
    "c) Título: Participação por Canal.\n",
    "Coluna (barras verticais)\n",
    "\n",
    "Coluna (barras): vendas por categoria\n",
    "categorias = [\"Alpha\", \"Beta\", \"Gamma\", \"Delta\", \"Epsilon\"]\n",
    "vendas = [180, 132, 106, 95, 88]\n",
    "Pergunta: quais categorias vendem mais?\n",
    "Instruções:\n",
    "a) Usar categorias e vendas.\n",
    "b) Título: Vendas por Categoria. Rotular eixo Y.\n"
   ]
  }
 ],
 "metadata": {
  "language_info": {
   "name": "python"
  }
 },
 "nbformat": 4,
 "nbformat_minor": 5
}
