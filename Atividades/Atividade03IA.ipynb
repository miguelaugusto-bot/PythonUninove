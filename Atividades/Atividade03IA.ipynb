{
 "cells": [
  {
   "cell_type": "markdown",
   "id": "34a87e25",
   "metadata": {},
   "source": [
    "1 - Neste exercício, os alunos irão aplicar funções universais do NumPy para realizar operações matemáticas em um array de valores, explorando as funcionalidades dessas funções em situações práticas.\n",
    "\n",
    "Utilize as funções de soma, media, maior e menor.\n",
    "\n",
    "Crie um array com os seguintes valores: 2, 3, 10,15, 20."
   ]
  },
  {
   "cell_type": "code",
   "execution_count": null,
   "id": "03f840d9",
   "metadata": {},
   "outputs": [
    {
     "name": "stdout",
     "output_type": "stream",
     "text": [
      "Soma dos numero: 50\n",
      "Média dos numero: 10\n",
      "Maior dos numero: 20\n",
      "Menor dos numero: 2\n"
     ]
    }
   ],
   "source": [
    "import numpy as np #precisa usar o comando pip install numpy no terminal/bash, caso de erro\n",
    "import statistics\n",
    "\n",
    "num = np.array([2, 3, 10, 15, 20])\n",
    "soma = sum(num)\n",
    "media = statistics.mean(num)\n",
    "maior = max(num)\n",
    "menor = min(num)\n",
    "\n",
    "print(f\"Soma dos numero: {soma}\")\n",
    "print(f\"Média dos numero: {media}\")\n",
    "print(f\"Maior dos numero: {maior}\")\n",
    "print(f\"Menor dos numero: {menor}\")\n"
   ]
  }
 ],
 "metadata": {
  "kernelspec": {
   "display_name": "Python 3",
   "language": "python",
   "name": "python3"
  },
  "language_info": {
   "codemirror_mode": {
    "name": "ipython",
    "version": 3
   },
   "file_extension": ".py",
   "mimetype": "text/x-python",
   "name": "python",
   "nbconvert_exporter": "python",
   "pygments_lexer": "ipython3",
   "version": "3.13.9"
  }
 },
 "nbformat": 4,
 "nbformat_minor": 5
}
