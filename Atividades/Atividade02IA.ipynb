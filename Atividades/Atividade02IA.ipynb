{
 "cells": [
  {
   "cell_type": "markdown",
   "id": "1ce9de5c",
   "metadata": {},
   "source": [
    "1 – Estrutura de Dados com For\n",
    "Crie uma base com 5 elementos em um dicionário, onde as chaves são nomes de alunos e os valores são suas notas.\n",
    "Utilizando um laço for, percorra o dicionário e exiba o nome do aluno e sua nota. Ao final, mostre também a média das notas da turma."
   ]
  },
  {
   "cell_type": "code",
   "execution_count": null,
   "id": "e0e5992f",
   "metadata": {},
   "outputs": [
    {
     "name": "stdout",
     "output_type": "stream",
     "text": [
      "Aluno: Jalin - Nota: 6\n",
      "Aluno: Tomas - Nota: 8\n",
      "Aluno: Jacinto - Nota: 3\n",
      "Aluno: Tiffu - Nota: 10\n",
      "Aluno: Takei - Nota: 9\n",
      "Média geral da turma: 7.2\n"
     ]
    }
   ],
   "source": [
    "#Lista com dicionario incluso\n",
    "turma = [\n",
    "    {\n",
    "        \"nome\": \"Jalin\",\n",
    "        \"nota\": 6\n",
    "    },\n",
    "    {\n",
    "        \"nome\": \"Tomas\",\n",
    "        \"nota\": 8\n",
    "    },\n",
    "    {\n",
    "        \"nome\": \"Jacinto\",\n",
    "        \"nota\": 3\n",
    "    },\n",
    "    {\n",
    "        \"nome\": \"Tiffu\",\n",
    "        \"nota\": 10\n",
    "    },\n",
    "    {\n",
    "        \"nome\": \"Takei\",\n",
    "        \"nota\": 9\n",
    "    }\n",
    "]\n",
    "#For para exibir os alunos e as suas notas\n",
    "for alunos in turma:\n",
    "    print(f\"Aluno: {alunos[\"nome\"]} - Nota: {alunos[\"nota\"]}\")\n",
    "\n",
    "notas_turma = [] #Armazenar as notas para media\n",
    "#For para as notas\n",
    "for notas in turma:\n",
    "    notas_turma.append(notas[\"nota\"])\n",
    "\n",
    "#Efetuar o processod e calculo da media de todas as notas da tuma\n",
    "soma_total = sum(notas_turma) #soma de valores\n",
    "qtd_numero = len(notas_turma) #verifica a quantidade\n",
    "media_geral = soma_total/qtd_numero #Efetua o calculo de media\n",
    "\n",
    "print(f\"Média geral da turma: {media_geral}\")\n"
   ]
  },
  {
   "cell_type": "markdown",
   "id": "54418c75",
   "metadata": {},
   "source": [
    "2 – Estrutura de Dados com While\n",
    "Crie uma base com 5 números inteiros armazenados em uma lista.\n",
    "Utilizando um laço while, percorra a lista e exiba apenas os números pares encontrados. Ao final, mostre a quantidade de números pares existentes na lista."
   ]
  },
  {
   "cell_type": "code",
   "execution_count": 5,
   "id": "85ea0978",
   "metadata": {},
   "outputs": [
    {
     "name": "stdout",
     "output_type": "stream",
     "text": [
      "Possui exatamente os numeros pares [2, 4, 4, 8], sendo exatamente 4 numeros pares\n"
     ]
    }
   ],
   "source": [
    "lista_numero = [1, 2, 3, 4, 4, 5, 7, 8]\n",
    "lista = []\n",
    "qtd = 0\n",
    "contador = 0\n",
    "\n",
    "while contador < len(lista_numero):\n",
    "    if lista_numero[contador] % 2 == 0:\n",
    "        lista.append(lista_numero[contador])\n",
    "    contador += 1\n",
    "\n",
    "print (f\"Possui exatamente os numeros pares {lista}, sendo exatamente {len(lista)} numeros pares\")"
   ]
  }
 ],
 "metadata": {
  "kernelspec": {
   "display_name": "Python 3",
   "language": "python",
   "name": "python3"
  },
  "language_info": {
   "codemirror_mode": {
    "name": "ipython",
    "version": 3
   },
   "file_extension": ".py",
   "mimetype": "text/x-python",
   "name": "python",
   "nbconvert_exporter": "python",
   "pygments_lexer": "ipython3",
   "version": "3.12.1"
  }
 },
 "nbformat": 4,
 "nbformat_minor": 5
}
