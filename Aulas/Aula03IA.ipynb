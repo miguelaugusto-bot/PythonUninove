{
 "cells": [
  {
   "cell_type": "code",
   "execution_count": 4,
   "id": "f125d1b5",
   "metadata": {},
   "outputs": [],
   "source": [
    "import numpy as np"
   ]
  },
  {
   "cell_type": "code",
   "execution_count": 5,
   "id": "739a4d81",
   "metadata": {},
   "outputs": [],
   "source": [
    "# Array a partir de uma lista\n",
    "array = np.array([1, 2, 3, 4])\n",
    "\n",
    "# Array multidimensional\n",
    "matriz = np.array([[1, 2], [3, 4]])\n"
   ]
  },
  {
   "cell_type": "code",
   "execution_count": 6,
   "id": "4c33dc1c",
   "metadata": {},
   "outputs": [],
   "source": [
    "soma = array + 2\n",
    "produto = array * 2"
   ]
  }
 ],
 "metadata": {
  "kernelspec": {
   "display_name": "Python 3",
   "language": "python",
   "name": "python3"
  },
  "language_info": {
   "codemirror_mode": {
    "name": "ipython",
    "version": 3
   },
   "file_extension": ".py",
   "mimetype": "text/x-python",
   "name": "python",
   "nbconvert_exporter": "python",
   "pygments_lexer": "ipython3",
   "version": "3.12.1"
  }
 },
 "nbformat": 4,
 "nbformat_minor": 5
}
