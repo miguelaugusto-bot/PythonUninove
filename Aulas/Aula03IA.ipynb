{
 "cells": [
  {
   "cell_type": "markdown",
   "id": "e83c71bf",
   "metadata": {},
   "source": [
    "# NumPy"
   ]
  },
  {
   "cell_type": "markdown",
   "id": "e1587f96",
   "metadata": {},
   "source": [
    "Adicionado a biblioteca numpy para computação cientificad"
   ]
  },
  {
   "cell_type": "code",
   "execution_count": 1,
   "id": "f125d1b5",
   "metadata": {},
   "outputs": [],
   "source": [
    "import numpy as np"
   ]
  },
  {
   "cell_type": "markdown",
   "id": "ca519ab3",
   "metadata": {},
   "source": [
    "# Operação e manipulação de arrays"
   ]
  },
  {
   "cell_type": "code",
   "execution_count": 2,
   "id": "739a4d81",
   "metadata": {},
   "outputs": [],
   "source": [
    "# Array a partir de uma lista\n",
    "array = np.array([1, 2, 3, 4])\n",
    "\n",
    "# Array multidimensional\n",
    "matriz = np.array([[1, 2], [3, 4]])\n"
   ]
  },
  {
   "cell_type": "code",
   "execution_count": 3,
   "id": "4c33dc1c",
   "metadata": {},
   "outputs": [],
   "source": [
    "soma = array + 2\n",
    "produto = array * 2"
   ]
  },
  {
   "cell_type": "code",
   "execution_count": 4,
   "id": "9c05acaa",
   "metadata": {},
   "outputs": [],
   "source": [
    "elemento = array[0]\n",
    "subarray = matriz[:, 1]  # Segunda coluna da matriz\n"
   ]
  },
  {
   "cell_type": "code",
   "execution_count": 5,
   "id": "c9d4c21e",
   "metadata": {},
   "outputs": [
    {
     "name": "stdout",
     "output_type": "stream",
     "text": [
      "Fatiamento: [2 3 4]\n"
     ]
    }
   ],
   "source": [
    "import numpy as np\n",
    "\n",
    "array = np.array([1, 2, 3, 4, 5, 6])\n",
    "\n",
    "# Acessando elementos do índice 1 ao 4 (não inclusivo)\n",
    "fatia = array[1:4]\n",
    "print(\"Fatiamento:\", fatia)  # Saída: [2 3 4]\n"
   ]
  },
  {
   "cell_type": "code",
   "execution_count": 6,
   "id": "4d481fbd",
   "metadata": {},
   "outputs": [
    {
     "name": "stdout",
     "output_type": "stream",
     "text": [
      "Original: [1 2 3 4 5 6]\n",
      "Cópia: [99  2  3  4  5  6]\n",
      "Original após Visão: [99  2  3  4  5  6]\n"
     ]
    }
   ],
   "source": [
    "# Cópia\n",
    "copia = array.copy()\n",
    "copia[0] = 99\n",
    "print(\"Original:\", array)  # Saída: [1 2 3 4 5 6]\n",
    "print(\"Cópia:\", copia)    # Saída: [99 2 3 4 5 6]\n",
    "\n",
    "# Visão\n",
    "visao = array.view()\n",
    "visao[0] = 99\n",
    "print(\"Original após Visão:\", array)  # Saída: [99 2 3 4 5 6]"
   ]
  },
  {
   "cell_type": "code",
   "execution_count": 7,
   "id": "34c2de01",
   "metadata": {},
   "outputs": [
    {
     "name": "stdout",
     "output_type": "stream",
     "text": [
      "Forma do array: (2, 3)\n"
     ]
    }
   ],
   "source": [
    "matriz = np.array([[1, 2, 3], [4, 5, 6]])\n",
    "print(\"Forma do array:\", matriz.shape)  # Saída: (2, 3)"
   ]
  },
  {
   "cell_type": "code",
   "execution_count": 8,
   "id": "2e6c6e77",
   "metadata": {},
   "outputs": [
    {
     "name": "stdout",
     "output_type": "stream",
     "text": [
      "Array Redimensionado:\n",
      " [[1 2 3]\n",
      " [4 5 6]]\n"
     ]
    }
   ],
   "source": [
    "array = np.array([1, 2, 3, 4, 5, 6])\n",
    "matriz = array.reshape(2, 3)\n",
    "print(\"Array Redimensionado:\\n\", matriz)\n",
    "# Saída:\n",
    "# [[1 2 3]\n",
    "#  [4 5 6]]\n"
   ]
  },
  {
   "cell_type": "code",
   "execution_count": 9,
   "id": "7e39a4fb",
   "metadata": {},
   "outputs": [
    {
     "name": "stdout",
     "output_type": "stream",
     "text": [
      "Linha: [1 2 3]\n",
      "Linha: [4 5 6]\n"
     ]
    }
   ],
   "source": [
    "for x in matriz:\n",
    "    print(\"Linha:\", x)\n",
    "# Saída:\n",
    "# Linha: [1 2 3]\n",
    "# Linha: [4 5 6]"
   ]
  },
  {
   "cell_type": "code",
   "execution_count": 10,
   "id": "43ca6062",
   "metadata": {},
   "outputs": [
    {
     "name": "stdout",
     "output_type": "stream",
     "text": [
      "Arrays Juntos: [1 2 3 4 5 6]\n"
     ]
    }
   ],
   "source": [
    "array1 = np.array([1, 2, 3])\n",
    "array2 = np.array([4, 5, 6])\n",
    "juncao = np.concatenate((array1, array2))\n",
    "print(\"Arrays Juntos:\", juncao)  # Saída: [1 2 3 4 5 6]\n"
   ]
  },
  {
   "cell_type": "code",
   "execution_count": 11,
   "id": "6e0652a0",
   "metadata": {},
   "outputs": [
    {
     "name": "stdout",
     "output_type": "stream",
     "text": [
      "Arrays Divididos: [array([1, 2]), array([3, 4]), array([5, 6])]\n"
     ]
    }
   ],
   "source": [
    "array = np.array([1, 2, 3, 4, 5, 6])\n",
    "divisao = np.array_split(array, 3)\n",
    "print(\"Arrays Divididos:\", divisao)\n",
    "# Saída: [array([1, 2]), array([3, 4]), array([5, 6])]"
   ]
  },
  {
   "cell_type": "code",
   "execution_count": 12,
   "id": "0b47d1ae",
   "metadata": {},
   "outputs": [
    {
     "name": "stdout",
     "output_type": "stream",
     "text": [
      "Índices onde array > 3: (array([3, 4]),)\n"
     ]
    }
   ],
   "source": [
    "array = np.array([1, 2, 3, 4, 5])\n",
    "indices = np.where(array > 3)\n",
    "print(\"Índices onde array > 3:\", indices)  # Saída: (array([3, 4]),)\n"
   ]
  },
  {
   "cell_type": "code",
   "execution_count": 13,
   "id": "b33870aa",
   "metadata": {},
   "outputs": [
    {
     "name": "stdout",
     "output_type": "stream",
     "text": [
      "Array Ordenado: [1 2 3 4 5]\n"
     ]
    }
   ],
   "source": [
    "array = np.array([5, 2, 4, 1, 3])\n",
    "ordenado = np.sort(array)\n",
    "print(\"Array Ordenado:\", ordenado)  # Saída: [1 2 3 4 5]\n"
   ]
  },
  {
   "cell_type": "code",
   "execution_count": 14,
   "id": "f6bfb302",
   "metadata": {},
   "outputs": [
    {
     "name": "stdout",
     "output_type": "stream",
     "text": [
      "Array Filtrado: [3 4 5]\n"
     ]
    }
   ],
   "source": [
    "array = np.array([1, 2, 3, 4, 5])\n",
    "filtro = array[array > 2]\n",
    "print(\"Array Filtrado:\", filtro)  # Saída: [3 4 5]\n"
   ]
  },
  {
   "cell_type": "markdown",
   "id": "4d90e9b7",
   "metadata": {},
   "source": [
    "# UFuncs Comandos Comuns para Funções Universais "
   ]
  },
  {
   "cell_type": "code",
   "execution_count": 15,
   "id": "9d73418b",
   "metadata": {},
   "outputs": [
    {
     "name": "stdout",
     "output_type": "stream",
     "text": [
      "15\n"
     ]
    }
   ],
   "source": [
    "soma = np.sum(array)\n",
    "print(soma)"
   ]
  },
  {
   "cell_type": "code",
   "execution_count": 16,
   "id": "f1f4d35d",
   "metadata": {},
   "outputs": [
    {
     "name": "stdout",
     "output_type": "stream",
     "text": [
      "[  2.71828183   7.3890561   20.08553692  54.59815003 148.4131591 ]\n"
     ]
    }
   ],
   "source": [
    "expo = np.exp(array)\n",
    "print(expo)"
   ]
  },
  {
   "cell_type": "code",
   "execution_count": 17,
   "id": "c35e560b",
   "metadata": {},
   "outputs": [
    {
     "name": "stdout",
     "output_type": "stream",
     "text": [
      "[1.         1.41421356 1.73205081 2.         2.23606798]\n"
     ]
    }
   ],
   "source": [
    "raiz = np.sqrt(array)\n",
    "print(raiz)"
   ]
  },
  {
   "cell_type": "markdown",
   "id": "727d3b41",
   "metadata": {},
   "source": [
    "# Funções com NumPy "
   ]
  },
  {
   "cell_type": "code",
   "execution_count": 18,
   "id": "13d721e3",
   "metadata": {},
   "outputs": [
    {
     "name": "stdout",
     "output_type": "stream",
     "text": [
      "[1. 0.]\n"
     ]
    }
   ],
   "source": [
    "\n",
    "import numpy as np\n",
    "\n",
    "def normaliza_array(arr):\n",
    "    max_val = np.max(arr)\n",
    "    min_val = np.min(arr)\n",
    "    return (arr - min_val) / (max_val - min_val)\n",
    "\n",
    "\n",
    "array = np.array([10,5])\n",
    "\n",
    "print(normaliza_array(array))"
   ]
  },
  {
   "cell_type": "markdown",
   "id": "a53b3336",
   "metadata": {},
   "source": [
    "# Arrays + NumPy"
   ]
  },
  {
   "cell_type": "code",
   "execution_count": 19,
   "id": "a8de5921",
   "metadata": {},
   "outputs": [
    {
     "name": "stdout",
     "output_type": "stream",
     "text": [
      "Média das notas: 7.333333333333333\n"
     ]
    }
   ],
   "source": [
    "#media de alunos\n",
    "import numpy as np\n",
    "\n",
    "notas = np.array([7.5, 8.0, 6.5])\n",
    "media = np.mean(notas)\n",
    "print(\"Média das notas:\", media)\n"
   ]
  },
  {
   "cell_type": "code",
   "execution_count": 20,
   "id": "f6eb9b05",
   "metadata": {},
   "outputs": [
    {
     "name": "stdout",
     "output_type": "stream",
     "text": [
      "Preços com desconto: [ 45. 108.  27.]\n"
     ]
    }
   ],
   "source": [
    "#preco com desconto\n",
    "\n",
    "precos = np.array([50, 120, 30])\n",
    "precos_com_desconto = precos * 0.9\n",
    "print(\"Preços com desconto:\", precos_com_desconto)"
   ]
  },
  {
   "cell_type": "code",
   "execution_count": 21,
   "id": "8e4e653a",
   "metadata": {},
   "outputs": [
    {
     "name": "stdout",
     "output_type": "stream",
     "text": [
      "Total de itens em estoque: 26\n"
     ]
    }
   ],
   "source": [
    "# contagem de estoque\n",
    "\n",
    "estoque = np.array([10, 5, 8, 3])\n",
    "total = np.sum(estoque)\n",
    "print(\"Total de itens em estoque:\", total)"
   ]
  },
  {
   "cell_type": "code",
   "execution_count": 22,
   "id": "952c103d",
   "metadata": {},
   "outputs": [
    {
     "name": "stdout",
     "output_type": "stream",
     "text": [
      "Temperaturas em Fahrenheit: [ 32.  68.  86. 104.]\n"
     ]
    }
   ],
   "source": [
    "#conversão de unidades\n",
    "celsius = np.array([0, 20, 30, 40])\n",
    "fahrenheit = (celsius * 9/5) + 32\n",
    "print(\"Temperaturas em Fahrenheit:\", fahrenheit)"
   ]
  }
 ],
 "metadata": {
  "kernelspec": {
   "display_name": "Python 3",
   "language": "python",
   "name": "python3"
  },
  "language_info": {
   "codemirror_mode": {
    "name": "ipython",
    "version": 3
   },
   "file_extension": ".py",
   "mimetype": "text/x-python",
   "name": "python",
   "nbconvert_exporter": "python",
   "pygments_lexer": "ipython3",
   "version": "3.13.1"
  }
 },
 "nbformat": 4,
 "nbformat_minor": 5
}
