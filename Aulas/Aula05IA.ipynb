{
 "cells": [
  {
   "cell_type": "code",
   "execution_count": 4,
   "id": "88c70a8c",
   "metadata": {},
   "outputs": [],
   "source": [
    "import matplotlib.pyplot as plt\n",
    "import numpy as np\n",
    "\n",
    "def grafico_linha():\n",
    "    dias = np.arange(1, 11)\n",
    "    vendas = np.array([12, 15, 14, 18, 22, 21, 23, 19, 25, 28])\n",
    "\n",
    "    fig, ax = plt.subplots(figsize=(6, 4))\n",
    "    ax.plot(dias, vendas, marker='o', linewidth=2)\n",
    "    ax.set_title('Vendas por Dia')\n",
    "    ax.set_xlabel('Dia')\n",
    "    ax.set_ylabel('Quantidade')\n",
    "    ax.grid(True, linestyle='--', alpha=0.5)\n",
    "    fig.tight_layout()\n",
    "    plt.show()"
   ]
  }
 ],
 "metadata": {
  "kernelspec": {
   "display_name": "Python 3",
   "language": "python",
   "name": "python3"
  },
  "language_info": {
   "codemirror_mode": {
    "name": "ipython",
    "version": 3
   },
   "file_extension": ".py",
   "mimetype": "text/x-python",
   "name": "python",
   "nbconvert_exporter": "python",
   "pygments_lexer": "ipython3",
   "version": "3.12.1"
  }
 },
 "nbformat": 4,
 "nbformat_minor": 5
}
