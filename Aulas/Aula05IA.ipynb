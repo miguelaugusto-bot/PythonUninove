{
 "cells": [
  {
   "cell_type": "markdown",
   "id": "2c1ea426",
   "metadata": {},
   "source": [
    "# Visualização de Dados em Python com Matplotlib"
   ]
  },
  {
   "cell_type": "markdown",
   "id": "41461299",
   "metadata": {},
   "source": [
    "## Introdução e Objetivos\n",
    "\n",
    "Nessa etapa iremos desenvolver usando o a biblioteca matplotlib a maioria dos graficos usado para explorar dados, comunicar achados e validas hipoteses."
   ]
  },
  {
   "cell_type": "markdown",
   "id": "e3130621",
   "metadata": {},
   "source": [
    "### Anatomio do matplotlib e APIs de uso\n",
    "\n",
    "- Figure: a “tela” ou canvas. Pode conter uma ou várias áreas de plotagem (Axes).\n",
    "- Axes: onde o gráfico é desenhado (eixo X/Y, ticks, rótulos, grade, título).\n",
    "- Duas formas de uso:\n",
    "    1. API de estado (procedural): `import matplotlib.pyplot as plt` e usar `plt.plot(...)`, `plt.title(...)`, etc. É rápida para gráficos simples.\n",
    "    2. API orientada a objetos (OO): `fig, ax = plt.subplots()` e então `ax.plot(...)`, `ax.set_title(...)`. Dá controle fino e é ideal para múltiplos subplots ou gráficos complexos.\n",
    "\n",
    "Boas práticas iniciais:\n",
    "\n",
    "- Preferir OO quando você tiver mais de um gráfico na mesma figura ou precisar de personalizações extensas.\n",
    "- Usar `fig.tight_layout()` ou `constrained_layout=True` para evitar cortes de rótulos.\n",
    "- Separar preparação dos dados e plotagem (código mais claro e reaproveitável)."
   ]
  },
  {
   "cell_type": "markdown",
   "id": "7e5f9ca6",
   "metadata": {},
   "source": [
    "### Personalização Essencial\n",
    "\n",
    "### Títulos, rótulos, legendas e grade\n",
    "\n",
    "- `ax.set_title(\"…\")`, `ax.set_xlabel(\"…\")`, `ax.set_ylabel(\"…\")`.\n",
    "- `ax.legend()` quando houver múltiplas séries com `label='...'`.\n",
    "- `ax.grid(True, linestyle='--', alpha=0.4)` para leitura de valores.\n",
    "\n",
    "### Estilos, cores e marcadores\n",
    "\n",
    "- Linhas: `linestyle='--'`, `linewidth=2`; marcadores: `marker='o'`, `markerfacecolor` etc.\n",
    "- Paletas/colormaps: `viridis`, `plasma`, `inferno`, `cividis` (boa para daltônicos).\n",
    "- Evite usar apenas cor para codificar categorias (use marcadores, rótulos).\n",
    "\n",
    "### 4.3 Escalas e limites\n",
    "\n",
    "- `ax.set_xscale('log')` / `ax.set_yscale('log')` quando a distribuição for log-normal ou houver várias ordens de grandeza.\n",
    "- `ax.set_xlim(min, max)` / `ax.set_ylim(min, max)` para focar a região relevante.\n",
    "\n",
    "### 4.4 Anotações e destaques\n",
    "\n",
    "- `ax.annotate('pico', xy=(x0, y0), xytext=(x0+1, y0+5), arrowprops=dict(arrowstyle='->'))` para apontar eventos.\n",
    "- `ax.axvline(...)`, `ax.axhline(...)`, `ax.axvspan(...)`, `ax.axhspan(...)` para linhas/regiões de referência.\n",
    "\n",
    "### 4.5 Layout e múltiplos subplots\n",
    "\n",
    "- `fig, axs = plt.subplots(nrows, ncols, figsize=(... ), constrained_layout=True)`.\n",
    "- `fig.tight_layout()` para ajustar espaçamentos.\n",
    "\n",
    "### 4.6 Exportação com qualidade\n",
    "\n",
    "- `fig.savefig('arquivo.png', dpi=300, bbox_inches='tight', transparent=False)`\n",
    "- Formatos: `.png` (raster), `.pdf`/`.svg` (vetorial, ideal para impressão)."
   ]
  }
 ],
 "metadata": {
  "language_info": {
   "name": "python"
  }
 },
 "nbformat": 4,
 "nbformat_minor": 5
}
