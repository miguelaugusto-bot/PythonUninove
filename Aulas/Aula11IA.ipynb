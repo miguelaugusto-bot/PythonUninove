{
 "cells": [
  {
   "cell_type": "markdown",
   "id": "0ea79b19",
   "metadata": {},
   "source": [
    "# Aula 11 - Redes Neurais 16/10/25 "
   ]
  },
  {
   "cell_type": "markdown",
   "id": "de917347",
   "metadata": {},
   "source": [
    "Rede Neurais ou também conhecidas como sistemas conexionistas, são formas computacionais não-algorítmica semelhante a estrutura do cérebro humano capazes de pensar e tomar decisões de acordo com o peso dos dados como se fosse um raciocinio humano, não são baseadas em regras ou programa, apenas em alternativas computacionais algorítimica convencional."
   ]
  },
  {
   "cell_type": "markdown",
   "id": "22e98cb1",
   "metadata": {},
   "source": [
    "## O que são Redes Neurais Artificiais (RNAs)"
   ]
  },
  {
   "cell_type": "markdown",
   "id": "555ae254",
   "metadata": {},
   "source": [
    "São sistema de computadore inspirados no conceito do cérebro humano\n",
    "- São modelos **não algorítmicos**, baseados em exemplos.\n",
    "- Realizam **aprendizado** e **generalização**.\n",
    "- Podem se auto-organizar e trabalhar com dados temporais."
   ]
  },
  {
   "cell_type": "markdown",
   "id": "0f89b0b7",
   "metadata": {},
   "source": [
    "### 1. O que é um modelo não algorítmico ?"
   ]
  },
  {
   "cell_type": "markdown",
   "id": "c4d4fe8a",
   "metadata": {},
   "source": [
    "Iniciando pelo **modelo algorítmico**, é uma sequencia de passos bem definidos afins de solucionar um problema aplicado (ex.: receitas ou regras fixas).\n",
    "\n",
    "O **modelo não algorítmico** como as redes neurais, não seguem regras explicitas, mas aprendeem com exemplos e generilização do conhecimento, ajustando o peso da informação com a experiência aplicada (dados de entrada + saída desejada)."
   ]
  },
  {
   "cell_type": "markdown",
   "id": "e0a4e1aa",
   "metadata": {},
   "source": [
    "**Exemplo Algoritmpo tradicional:**"
   ]
  },
  {
   "cell_type": "code",
   "execution_count": null,
   "id": "84bc97d0",
   "metadata": {},
   "outputs": [],
   "source": [
    "idade = 18\n",
    "\n",
    "if idade >= 18:\n",
    "    print(\"Adulto\")\n",
    "else:\n",
    "    print(\"Menor de idade\")"
   ]
  },
  {
   "cell_type": "markdown",
   "id": "79a99cf5",
   "metadata": {},
   "source": [
    "**Exemplo de Rede Neural**"
   ]
  },
  {
   "cell_type": "markdown",
   "id": "3e40f021",
   "metadata": {},
   "source": [
    "Você mostra centenas de exemplos (idade + classe) e ela descobre sozinha a melhor forma de separar os grupos, ajustando os pesos internos."
   ]
  },
  {
   "cell_type": "markdown",
   "id": "56c8b19c",
   "metadata": {},
   "source": [
    "### 2. Como funciona o aprendizado de uma RNA ?"
   ]
  },
  {
   "cell_type": "markdown",
   "id": "c21cc7cb",
   "metadata": {},
   "source": [
    "O aprendizado ocorre quando é ajustado os pesos das conexões entre os neurônios, para que a saida fique o mais proxima da resposta desejada.\n",
    "Imagine que você possua idade e renda na entrada e saída comprou ou não, a cada exemplo aplicado e apresentado, é efetuado um calculo na saída, comparar com o valor real, calcular o erro e ajustar o peso para reduzir o erro, sendo um ciclo repetivivo em varias épocas (epóca = passar por todos os dados)."
   ]
  },
  {
   "cell_type": "markdown",
   "id": "b9cdbfcc",
   "metadata": {},
   "source": [
    "### 3. O que é generalização em RNA ?"
   ]
  },
  {
   "cell_type": "markdown",
   "id": "46bd2814",
   "metadata": {},
   "source": [
    "É a capacidade de dar boas respostas para dados que nunca viu antes, mas semelhante ao que foi aprendido. \n",
    "\n",
    "Seria a capacidade e ensinar a diferenciar as imagens de cães e gatos, e durante o processo aplicar uma nova imagem de cão e a propria IA reconhecer que é um cão, sem a necessidade de treinar com a nova imagem.\n",
    "\n",
    "Necessario cuidado com a rede que só decora o treino (overfitting = excesso de dados) não generalizados. Precisa aprender padrões e não casos exatos."
   ]
  },
  {
   "cell_type": "markdown",
   "id": "8ac277f8",
   "metadata": {},
   "source": [
    "### O que é auto-organização em redes neurais ?"
   ]
  },
  {
   "cell_type": "markdown",
   "id": "56f3d0d8",
   "metadata": {},
   "source": [
    "Em algumas redes com aprendizado não supervisionado (kohonen ou SOMs), organiza os seus neurônios com base na similaridade dos dados, sem precisar de um saída conhecida e simplesmente mapeando padrões e organizando os neurônios em regiões (clusters)."
   ]
  },
  {
   "cell_type": "markdown",
   "id": "b34528df",
   "metadata": {},
   "source": [
    "## Neurônio Biológico vs. Neurônio Artificial"
   ]
  },
  {
   "cell_type": "markdown",
   "id": "1a71a90f",
   "metadata": {},
   "source": [
    "- **Biológico**: corpo celular, dendritos, axônio, sinapse.\n",
    "- **Artificial**: entradas (X1, X2, ..., Xn), pesos (W1, W2, ..., Wn), saída Y.\n",
    "- Disparo acontece com **função de ativação** quando ultrapassa um **limiar**."
   ]
  },
  {
   "cell_type": "markdown",
   "id": "83c419df",
   "metadata": {},
   "source": [
    "### Neurônio Biológico - O que é e o que faz cada parte?"
   ]
  },
  {
   "cell_type": "markdown",
   "id": "892469db",
   "metadata": {},
   "source": [
    "| Parte | O que é | Função |\n",
    "|-------------|--------------|--------------|\n",
    "| Corpo celular  | Centro do neurônio (soma)   | Processa os sinais recebidos e decide se vai “disparar” um impulso   |\n",
    "| Dendritos  | Prolongamentos que chegam até o corpo celular   | Recebem sinais de outros neurônios   |\n",
    "| Axônio  | Prolongamento único, longo   | Transmite o impulso para outros neurônios   |\n",
    "| Sinapse  | Espaço entre o axônio de um neurônio e o dendrito de outro   | Onde o sinal é transferido entre neurônios (conexão química ou elétrica)   |\n",
    "\n",
    "![Neuronio](../img/aula11/neuronio.png)"
   ]
  },
  {
   "cell_type": "markdown",
   "id": "e8e75752",
   "metadata": {},
   "source": [
    "### Neurônio Artificial - O que é e a relação com o biológico ?"
   ]
  },
  {
   "cell_type": "markdown",
   "id": "21d4f385",
   "metadata": {},
   "source": [
    "| Parte Artificial | Relação com o Biológico | Função no Modelo Computacional |\n",
    "|-------------|--------------|--------------|\n",
    "| Entradas (X1...Xn)  | Equivalem aos dendritos   | Recebem os dados de entrada (ex: altura, idade, pixels de imagem)   |\n",
    "| Pesos (W1...Wn)  | Simulam as forças das sinapses   | Representam a importância de cada entrada (reforça ou enfraquece o sinal)   |\n",
    "| Saída (Y)  | Equivale ao axônio   | Resultado final após o processamento (ex: 0 = gato, 1 = cachorro)   |\n",
    "\n",
    "\n",
    "![Neuronio_Artificial](../img/aula11/neuronio_artificial.png)"
   ]
  },
  {
   "cell_type": "markdown",
   "id": "de16246b",
   "metadata": {},
   "source": [
    "### \"Disparo\" do Neurônio Artificial - O que é ?"
   ]
  },
  {
   "cell_type": "markdown",
   "id": "02f40ce8",
   "metadata": {},
   "source": [
    "- O neurônio **soma todas as entradas multiplicadas por seus pesos**.\n",
    "- Se essa soma ultrapassar um **limiar (threshold)**, a rede **ativa (dispara)** a saída.\n",
    "- Isso é feito usando uma **função de ativação**.\n",
    "\n",
    "**Exemplo Prático:**\n",
    "\n",
    "- Entradas: X1 = 0.9 (idade), X2 = 0.2 (renda)\n",
    "- Pesos: W1 = 0.5, W2 = 0.3\n",
    "- Limiar (threshold): 0.4\n",
    "\n",
    "**Soma Ponderada**\n",
    "\n",
    "soma = x1 * w1 + x2 * w2  \n",
    "soma = 0.9 * 0.5 + 0.2 * 0.3  \n",
    "soma = 0.45 + 0.06  \n",
    "soma = 0.51  "
   ]
  },
  {
   "cell_type": "markdown",
   "id": "27128620",
   "metadata": {},
   "source": [
    "**Função de Ativação**"
   ]
  },
  {
   "cell_type": "code",
   "execution_count": 1,
   "id": "ab23b097",
   "metadata": {},
   "outputs": [],
   "source": [
    "def ativacao(soma):\n",
    "    return 1 if soma >= 0.4 else 0"
   ]
  },
  {
   "cell_type": "markdown",
   "id": "3eb6e116",
   "metadata": {},
   "source": [
    "Como 0.51 > 0.4 -> o neurônio dispara (saída = 1)\n",
    "\n",
    "![Saida_artificial](../img/aula11/saida_artificial.png)\n",
    "\n",
    "**Analogia com o biológico:**\n",
    "\n",
    "É como se o neurônio biológico acumulasse sinais dos dendritos e, ao ultrapassar um certo nível de excitação, enviasse um impulso elétrico pelo axônio."
   ]
  },
  {
   "cell_type": "markdown",
   "id": "7d9f848b",
   "metadata": {},
   "source": [
    "## Arquiteturas"
   ]
  },
  {
   "cell_type": "markdown",
   "id": "a6bb1a2e",
   "metadata": {},
   "source": [
    "Nessa etapa iremos trabar o feedforward de um camada, sendo simples e com sinal unidirecional.\n",
    "\n",
    "Feedforward é um fluxo de decisões de uma única direção, sem ciclos ou loops para a tomada de decisão. "
   ]
  },
  {
   "cell_type": "markdown",
   "id": "5c1bc677",
   "metadata": {},
   "source": [
    "### 1. Feedforward de Uma Camada (Perceptron Simples)"
   ]
  },
  {
   "cell_type": "markdown",
   "id": "d6287fda",
   "metadata": {},
   "source": [
    "**Como funciona:**\n",
    "\n",
    "1. **Entrada:** Recebe os dados (ex: idade, peso).  \n",
    "2. **Pesos:** Cada entrada é multiplicada por um peso.  \n",
    "3. **Soma ponderada:** Soma todas as entradas ponderadas.  \n",
    "4. **Função de ativação:** Aplica uma função (ex: degrau, sigmoide).  \n",
    "5. **Saída:** Resultado binário (0 ou 1) ou contínuo.  \n",
    "\n",
    "**Tipo de Algoritmo:**\n",
    " - Perceptron (Usado para problemas linearmente separáveis)\n",
    " - Feedforward de múltiplasa camadas (Redes profundas ou deep learning)\n",
    "\n",
    "![perceptron](../img/aula11/perceptron.png)"
   ]
  },
  {
   "cell_type": "markdown",
   "id": "a2aef79f",
   "metadata": {},
   "source": [
    "### 2. Feedforward de Múltiplas Camadas (MLP = Multilayer Perceptron)"
   ]
  },
  {
   "cell_type": "markdown",
   "id": "d8a3f731",
   "metadata": {},
   "source": [
    "**Como funciona:**\n",
    "1. **Entrada:** Os dados são inseridos na camada de entrada.\n",
    "2. **Camadas ocultas:** Cada camada realiza somas e ativações.\n",
    "3. **Propagação direta:** O sinal vai da entrada até a saída sem loops.\n",
    "4. **Função de ativação:** Cada neurônio ativa conforme o limiar.\n",
    "5. **Saída:** Classificação ou valor contínuo.\n",
    "\n",
    "**Tipos de Algoritmo**\n",
    " - Backpropagation (Retropropagação de erro, usando em deep learning com múltiplas camadas).\n",
    " - Recorrente (RNN com laços e dados sequenciais)\n",
    "\n",
    "![MLP](../img/aula11/MLP.png)"
   ]
  },
  {
   "cell_type": "markdown",
   "id": "aacb152f",
   "metadata": {},
   "source": [
    "### 3. Redes Recorrentes (RNN - Recurrent Neural Network)"
   ]
  },
  {
   "cell_type": "markdown",
   "id": "8d5b94bc",
   "metadata": {},
   "source": [
    "**Como funciona:**\n",
    "\n",
    "1. **Entrada sequencial:** Recebe uma sequência de dados (ex: texto, som).\n",
    "2. **Memória interna:** A saída anterior é usada como entrada para o próximo passo.\n",
    "3. **Laços internos:** Cada neurônio da camada oculta é ligado a si mesmo no tempo seguinte.\n",
    "4. **Propagação temporal:** Os dados passam por tempo, influenciando uns aos outros.\n",
    "5. **Saída:** Pode ser uma sequência (tradução, previsão) ou um valor final (sentimento).\n",
    "\n",
    "**Tipo de algoritmo:**\n",
    " - RNN simples, LSTM, GRU (Usados em dados sequenciais e temporais)  \n",
    "   \n",
    "As RNNs são feitas de neurônios: nós de processamento de dados que trabalham juntos para realizar tarefas complexas.\n",
    "\n",
    "Os neurônios são organizados como camadas de entrada, saída e ocultas.\n",
    "\n",
    "A camada de entrada recebe as informações a serem processadas e a camada de saída fornece o resultado.   \n",
    "\n",
    "O processamento, a análise e a previsão de dados ocorrem na camada oculta.   \n",
    "\n",
    "![RNN](../img/aula11/RNN.png)\n",
    "\n",
    "- Cada **círculo grande (h)** representa o estado do neurônio em um tempo.\n",
    "- As **setas horizontais** mostram a **recorrência temporal** (memória).\n",
    "- As **setas verticais** mostram entrada e saída a cada passo do tempo.\n",
    "\n",
    "![RNN_especifico](../img/aula11/RNN_especifico.png)"
   ]
  },
  {
   "cell_type": "markdown",
   "id": "4b9dfddc",
   "metadata": {},
   "source": [
    "### Como as redes neurais recorrentes se comparam a outras redes de aprendizado profundo?"
   ]
  },
  {
   "cell_type": "markdown",
   "id": "cc5e8ef5",
   "metadata": {},
   "source": [
    "As RNNs são uma das várias arquiteturas de redes neurais diferentes.\n",
    "\n",
    "**Rede neural recorrente versus rede neural de feedback direto**  \n",
    "Assim como as RNNs, as redes neurais feed-forward são redes neurais artificiais que transmitem informações de uma extremidade à outra extremidade da arquitetura. Uma rede neural de feedback direto pode realizar tarefas simples de classificação, regressão ou reconhecimento, mas não consegue se lembrar da entrada anterior que processou. Por exemplo, ele esquece a Apple quando seu neurônio processa a palavra is. A RNN supera essa limitação de memória ao incluir um estado de memória oculta no neurônio.\n",
    "\n",
    "**Rede neural recorrente versus redes neurais convolucionais**  \n",
    "As redes neurais convolucionais são redes neurais artificiais projetadas para processar dados temporais. Você pode usar redes neurais convolucionais para extrair informações espaciais de vídeos e imagens, passando-as por uma série de camadas convolucionais e agrupadas na rede neural. As RNNs são projetadas para capturar dependências de longo prazo em dados sequenciais"
   ]
  },
  {
   "cell_type": "markdown",
   "id": "2955f197",
   "metadata": {},
   "source": [
    "## Pesos Oscilando (Problema no Aprendizado)"
   ]
  },
  {
   "cell_type": "markdown",
   "id": "cbdb07f1",
   "metadata": {},
   "source": [
    "![oscilacoes](../img/aula11/oscilacoes.png)\n",
    "\n",
    "**Gráfico da esquerda (pesos estabilizando):** Mostra que os pesos dos valor chegam a um ponto fixo e não possui mudanças, indicando que aprendeu as tarefas muito bem e não precisa ajustar.\n",
    "\n",
    "**Gráfico da direita (pesos oscilando):** MOstra pesos em mudanças bruscas de uma época para outra e isso indica:\n",
    "- **taxa de aprendizado muito alta** (os ajustes passam do ponto ideal)  \n",
    "- ou **dados conflitantes**, que confundem a rede  \n",
    "\n",
    "Não importa a opção, é necessario aplicar ajustes novamente."
   ]
  },
  {
   "cell_type": "markdown",
   "id": "dff8501b",
   "metadata": {},
   "source": [
    "## PARTE PRÁTICA (em Python) – Perceptron Simples"
   ]
  },
  {
   "cell_type": "markdown",
   "id": "7a51dcd9",
   "metadata": {},
   "source": [
    "O objetivo é criar uma rede neural simples com 2 entradas para classificar se uma pessoa deve usar óculos.\n",
    "\n",
    "**Dataset de Exemplo:**\n",
    "\n",
    "> O modelo deve aprender a prever se uma pessoa usa ou não óculos, com base em:\n",
    "> \n",
    "\n",
    "A ideia é treinar um modelo para prever se uma pessoa **usa ou não óculos**, com base nas seguintes informações:\n",
    "\n",
    "- `X1 = 1` → a pessoa tem dificuldade para enxergar de longe\n",
    "- `X2 = 1` → a pessoa tem dificuldade para enxergar de perto\n",
    "- `Y = 1` → a pessoa usa óculos\n",
    "- `Y = 0` → a pessoa **não** usa óculos\n",
    "\n",
    "**Objetivo:** A rede deve aprender que:\n",
    "\n",
    "- Se há **qualquer dificuldade**, a pessoa **usa óculos**.\n",
    "- Se não há nenhuma dificuldade, **não usa**."
   ]
  },
  {
   "cell_type": "markdown",
   "id": "cd3fad0a",
   "metadata": {},
   "source": [
    "### 1. Dados de Entrada e Saída"
   ]
  },
  {
   "cell_type": "markdown",
   "id": "a636203b",
   "metadata": {},
   "source": [
    "| Entrada (X1, X2) | Descrição | Esperado (Y) |\n",
    "|-------------|--------------|--------------|\n",
    "| (0, 0)  | Sem dificuldade   | 0 (não usa)   |\n",
    "| (0, 1)  | Dificuldade de perto   | 1 (usa)   |\n",
    "| (1, 0)  | Dificuldade de longe   | 1 (usa)   |\n",
    "| (1, 0)  | Dificuldade de longe e de perto   | 1 (usa)   |\n",
    "\n",
    "O modelo precisa aprender que qualquer dificuldade já é suficiente para indicar que a pessoa usa óculos."
   ]
  },
  {
   "cell_type": "code",
   "execution_count": 1,
   "id": "8df1751f",
   "metadata": {},
   "outputs": [],
   "source": [
    "entradas = [[0, 0], [0, 1], [1, 0], [1, 1]]\n",
    "saidas = [0, 1, 1, 1]"
   ]
  },
  {
   "cell_type": "markdown",
   "id": "5a504803",
   "metadata": {},
   "source": [
    "### 2. Inicialização"
   ]
  },
  {
   "cell_type": "markdown",
   "id": "0ab68009",
   "metadata": {},
   "source": [
    "- Os **pesos** dizem quão importante é cada entrada (X1 ou X2).\n",
    "- A **taxa de aprendizado** controla o quanto os pesos mudam por erro.\n",
    "- O **limiar** define o ponto mínimo para considerar que a pessoa \"usa óculos\" (saída 1)."
   ]
  },
  {
   "cell_type": "code",
   "execution_count": 2,
   "id": "eb544931",
   "metadata": {},
   "outputs": [],
   "source": [
    "pesos = [0.0, 0.0]       # Começamos neutros\n",
    "taxa_aprendizado = 0.1   # Ajustes pequenos\n",
    "limiar = 0.5             # Valor mínimo para ativar saída"
   ]
  },
  {
   "cell_type": "markdown",
   "id": "b6af4711",
   "metadata": {},
   "source": [
    "### 3. Funções de Ativação"
   ]
  },
  {
   "cell_type": "markdown",
   "id": "a1cbecf0",
   "metadata": {},
   "source": [
    "Se a soma das entradas × pesos for maior ou igual ao limiar, o neurônio dispara (1) — ou seja, o modelo diz que a pessoa usa óculos."
   ]
  },
  {
   "cell_type": "code",
   "execution_count": 3,
   "id": "c535e754",
   "metadata": {},
   "outputs": [],
   "source": [
    "def ativacao(soma):\n",
    "    return 1 if soma >= limiar else 0"
   ]
  },
  {
   "cell_type": "markdown",
   "id": "732c705e",
   "metadata": {},
   "source": [
    "### 4. Função de Teste"
   ]
  },
  {
   "cell_type": "markdown",
   "id": "3c7fa9bd",
   "metadata": {},
   "source": [
    "Essa função testa uma nova entrada com os pesos atuais, dizendo se o modelo acredita que a pessoa usa (1) ou não usa (0) óculos."
   ]
  },
  {
   "cell_type": "code",
   "execution_count": 4,
   "id": "564ecafa",
   "metadata": {},
   "outputs": [],
   "source": [
    "def testar(x1, x2):\n",
    "    soma = x1 * pesos[0] + x2 * pesos[1]\n",
    "    return ativacao(soma)"
   ]
  },
  {
   "cell_type": "markdown",
   "id": "5c99765a",
   "metadata": {},
   "source": [
    "### 5. Treinamento (Aprendizado)"
   ]
  },
  {
   "cell_type": "markdown",
   "id": "c960c588",
   "metadata": {},
   "source": [
    "**O que acontece aqui?**\n",
    "\n",
    "- O modelo calcula uma **previsão** com base nos pesos atuais.\n",
    "- Compara com a **resposta correta** (`erro = real - previsto`)\n",
    "- Se houver erro, os **pesos são ajustados**:\n",
    "    - **Se a pessoa usa óculos, mas o modelo disse que não**, o peso é aumentado.\n",
    "    - **Se acertou, os pesos permanecem iguais.**\n",
    "\n",
    "Esse processo se repete por 5 épocas (passagens completas pelos dados)."
   ]
  },
  {
   "cell_type": "code",
   "execution_count": 5,
   "id": "802c8ade",
   "metadata": {},
   "outputs": [],
   "source": [
    "for epoca in range(5):\n",
    "    for i in range(len(entradas)):\n",
    "        x1, x2 = entradas[i]\n",
    "        y = saidas[i]\n",
    "\n",
    "        soma = x1 * pesos[0] + x2 * pesos[1]\n",
    "        y_previsto = ativacao(soma)\n",
    "        erro = y - y_previsto\n",
    "\n",
    "        pesos[0] += taxa_aprendizado * erro * x1\n",
    "        pesos[1] += taxa_aprendizado * erro * x2"
   ]
  },
  {
   "cell_type": "markdown",
   "id": "13ad890f",
   "metadata": {},
   "source": [
    "### 6. Acurácia"
   ]
  },
  {
   "cell_type": "markdown",
   "id": "266d10ce",
   "metadata": {},
   "source": [
    "Ao final de cada época, calculamos quantas previsões foram corretas e transformamos isso em uma porcentagem de acerto (acurácia)."
   ]
  },
  {
   "cell_type": "code",
   "execution_count": 7,
   "id": "b0f0b01b",
   "metadata": {},
   "outputs": [
    {
     "name": "stdout",
     "output_type": "stream",
     "text": [
      "Acurácia final: 25.00%\n",
      "Acurácia final: 50.00%\n",
      "Acurácia final: 75.00%\n",
      "Acurácia final: 100.00%\n"
     ]
    }
   ],
   "source": [
    "acertos = 0\n",
    "for i in range(len(entradas)):\n",
    "    y_previsto = testar(entradas[i][0], entradas[i][1])\n",
    "    if y_previsto == saidas[i]:\n",
    "        acertos += 1\n",
    "\n",
    "    acuracia = (acertos / len(entradas)) * 100\n",
    "    print(f'Acurácia final: {acuracia:.2f}%')  # <-- Aqui está o print adicionado"
   ]
  },
  {
   "cell_type": "markdown",
   "id": "0e16d6ef",
   "metadata": {},
   "source": [
    "### Resultado Esperado após Treindamento"
   ]
  },
  {
   "cell_type": "markdown",
   "id": "0bd412b5",
   "metadata": {},
   "source": [
    "Com o tempo, os pesos se ajustam. No exemplo real:\n",
    "\n",
    "| Época | Pesos | Acurácia (%) |\n",
    "|-------------|--------------|--------------|\n",
    "| 1  | [0.2, 0.2]   | 25%   |\n",
    "| 2  | [0.3, 0.3]   | 50%   |\n",
    "| 3  | [0.4, 0.4]   | 50%   |\n",
    "| 4  | [0.5, 0.5]   | 100%   |\n",
    "| 5  | [0.5, 0.5]   | 100%   |\n"
   ]
  },
  {
   "cell_type": "code",
   "execution_count": 8,
   "id": "3ea237f8",
   "metadata": {},
   "outputs": [
    {
     "data": {
      "image/png": "[encoded data removed]",
      "text/plain": [
       "<Figure size 800x500 with 1 Axes>"
      ]
     },
     "metadata": {},
     "output_type": "display_data"
    }
   ],
   "source": [
    "# Gerar gráfico da acurácia ao longo das épocas\n",
    "\n",
    "import matplotlib.pyplot as plt\n",
    "\n",
    "# Reutilizando os valores de acurácia das 5 épocas anteriores\n",
    "acuracias = [25.0, 50.0, 50.0, 100.0, 100.0]\n",
    "epocas = list(range(1, len(acuracias) + 1))\n",
    "\n",
    "# Plotar o gráfico\n",
    "plt.figure(figsize=(8, 5))\n",
    "plt.plot(epocas, acuracias, marker='o', linestyle='-', color='blue')\n",
    "plt.title('Acurácia do Perceptron ao Longo das Épocas')\n",
    "plt.xlabel('Época')\n",
    "plt.ylabel('Acurácia (%)')\n",
    "plt.ylim(0, 110)\n",
    "plt.grid(True)\n",
    "plt.xticks(epocas)\n",
    "plt.tight_layout()\n",
    "plt.show()"
   ]
  },
  {
   "cell_type": "markdown",
   "id": "abe2df43",
   "metadata": {},
   "source": [
    "Aqui está o gráfico da **acurácia do Perceptron ao longo das 5 épocas**. Ele mostra visualmente como o modelo **melhora seu desempenho** conforme ajusta os pesos com base nos erros:\n",
    "\n",
    "- A partir da **época 4**, a rede alcança **100% de acerto** e estabiliza.\n",
    "- Isso indica que o Perceptron **aprendeu corretamente** a classificar os exemplos."
   ]
  },
  {
   "cell_type": "code",
   "execution_count": 9,
   "id": "2ad6e990",
   "metadata": {},
   "outputs": [
    {
     "data": {
      "image/png": "[encoded data removed]",
      "text/plain": [
       "<Figure size 800x500 with 1 Axes>"
      ]
     },
     "metadata": {},
     "output_type": "display_data"
    }
   ],
   "source": [
    "# Recriando pesos por época para plotar evolução\n",
    "pesos_epoca = [\n",
    "    [0.2, 0.2],                        # após época 1\n",
    "    [0.3, 0.3],                        # após época 2\n",
    "    [0.4, 0.4],                        # após época 3\n",
    "    [0.5, 0.5],                        # após época 4\n",
    "    [0.5, 0.5]                         # após época 5\n",
    "]\n",
    "\n",
    "# Separar pesos X1 e X2 para gráfico\n",
    "pesos_x1 = [p[0] for p in pesos_epoca]\n",
    "pesos_x2 = [p[1] for p in pesos_epoca]\n",
    "\n",
    "# Plotar gráfico de evolução dos pesos\n",
    "plt.figure(figsize=(8, 5))\n",
    "plt.plot(epocas, pesos_x1, marker='o', label='Peso X1')\n",
    "plt.plot(epocas, pesos_x2, marker='s', label='Peso X2')\n",
    "plt.title('Evolução dos Pesos do Perceptron por Época')\n",
    "plt.xlabel('Época')\n",
    "plt.ylabel('Valor dos Pesos')\n",
    "plt.grid(True)\n",
    "plt.legend()\n",
    "plt.xticks(epocas)\n",
    "plt.tight_layout()\n",
    "plt.show()"
   ]
  },
  {
   "cell_type": "markdown",
   "id": "51c58dd6",
   "metadata": {},
   "source": [
    "Aqui está o gráfico mostrando a **evolução dos pesos** do Perceptron ao longo das épocas:\n",
    "\n",
    "- Os pesos de **X1** e **X2** aumentam conforme o modelo comete erros e aprende a valorizar essas entradas.\n",
    "- A partir da **época 4**, os pesos estabilizam, indicando que **não há mais erro** e o modelo aprendeu a classificar corretamente."
   ]
  }
 ],
 "metadata": {
  "kernelspec": {
   "display_name": "Python 3",
   "language": "python",
   "name": "python3"
  },
  "language_info": {
   "codemirror_mode": {
    "name": "ipython",
    "version": 3
   },
   "file_extension": ".py",
   "mimetype": "text/x-python",
   "name": "python",
   "nbconvert_exporter": "python",
   "pygments_lexer": "ipython3",
   "version": "3.13.1"
  }
 },
 "nbformat": 4,
 "nbformat_minor": 5
}
