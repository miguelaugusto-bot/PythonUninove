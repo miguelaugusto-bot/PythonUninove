{
 "cells": [
  {
   "cell_type": "markdown",
   "id": "0ea79b19",
   "metadata": {},
   "source": [
    "# Aula 11 - Redes Neurais 16/10/25 "
   ]
  },
  {
   "cell_type": "markdown",
   "id": "de917347",
   "metadata": {},
   "source": [
    "Rede Neurais ou também conhecidas como sistemas conexionistas, são formas computacionais não-algorítmica semelhante a estrutura do cérebro humano capazes de pensar e tomar decisões de acordo com o peso dos dados como se fosse um raciocinio humano, não são baseadas em regras ou programa, apenas em alternativas computacionais algorítimica convencional."
   ]
  },
  {
   "cell_type": "markdown",
   "id": "22e98cb1",
   "metadata": {},
   "source": [
    "## O que são Redes Neurais Artificiais (RNAs)"
   ]
  },
  {
   "cell_type": "markdown",
   "id": "555ae254",
   "metadata": {},
   "source": [
    "São sistema de computadore inspirados no conceito do cérebro humano\n",
    "- São modelos **não algorítmicos**, baseados em exemplos.\n",
    "- Realizam **aprendizado** e **generalização**.\n",
    "- Podem se auto-organizar e trabalhar com dados temporais."
   ]
  },
  {
   "cell_type": "markdown",
   "id": "0f89b0b7",
   "metadata": {},
   "source": [
    "### 1. O que é um modelo não algorítmico ?"
   ]
  },
  {
   "cell_type": "markdown",
   "id": "c4d4fe8a",
   "metadata": {},
   "source": [
    "Iniciando pelo **modelo algorítmico**, é uma sequencia de passos bem definidos afins de solucionar um problema aplicado (ex.: receitas ou regras fixas).\n",
    "\n",
    "O **modelo não algorítmico** como as redes neurais, não seguem regras explicitas, mas aprendeem com exemplos e generilização do conhecimento, ajustando o peso da informação com a experiência aplicada (dados de entrada + saída desejada)."
   ]
  },
  {
   "cell_type": "markdown",
   "id": "e0a4e1aa",
   "metadata": {},
   "source": [
    "**Exemplo Algoritmpo tradicional:**"
   ]
  },
  {
   "cell_type": "code",
   "execution_count": null,
   "id": "84bc97d0",
   "metadata": {},
   "outputs": [],
   "source": [
    "idade = 18\n",
    "\n",
    "if idade >= 18:\n",
    "    print(\"Adulto\")\n",
    "else:\n",
    "    print(\"Menor de idade\")"
   ]
  },
  {
   "cell_type": "markdown",
   "id": "79a99cf5",
   "metadata": {},
   "source": [
    "**Exemplo de Rede Neural**"
   ]
  },
  {
   "cell_type": "markdown",
   "id": "3e40f021",
   "metadata": {},
   "source": [
    "Você mostra centenas de exemplos (idade + classe) e ela descobre sozinha a melhor forma de separar os grupos, ajustando os pesos internos."
   ]
  },
  {
   "cell_type": "markdown",
   "id": "56c8b19c",
   "metadata": {},
   "source": [
    "### 2. Como funciona o aprendizado de uma RNA ?"
   ]
  },
  {
   "cell_type": "markdown",
   "id": "c21cc7cb",
   "metadata": {},
   "source": [
    "O aprendizado ocorre quando é ajustado os pesos das conexões entre os neurônios, para que a saida fique o mais proxima da resposta desejada.\n",
    "Imagine que você possua idade e renda na entrada e saída comprou ou não, a cada exemplo aplicado e apresentado, é efetuado um calculo na saída, comparar com o valor real, calcular o erro e ajustar o peso para reduzir o erro, sendo um ciclo repetivivo em varias épocas (epóca = passar por todos os dados)."
   ]
  },
  {
   "cell_type": "markdown",
   "id": "b9cdbfcc",
   "metadata": {},
   "source": [
    "### 3. O que é generalização em RNA ?"
   ]
  },
  {
   "cell_type": "markdown",
   "id": "46bd2814",
   "metadata": {},
   "source": [
    "É a capacidade de dar boas respostas para dados que nunca viu antes, mas semelhante ao que foi aprendido. \n",
    "\n",
    "Seria a capacidade e ensinar a diferenciar as imagens de cães e gatos, e durante o processo aplicar uma nova imagem de cão e a propria IA reconhecer que é um cão, sem a necessidade de treinar com a nova imagem.\n",
    "\n",
    "Necessario cuidado com a rede que só decora o treino (overfitting = excesso de dados) não generalizados. Precisa aprender padrões e não casos exatos."
   ]
  },
  {
   "cell_type": "markdown",
   "id": "8ac277f8",
   "metadata": {},
   "source": [
    "### O que é auto-organização em redes neurais ?"
   ]
  },
  {
   "cell_type": "markdown",
   "id": "56f3d0d8",
   "metadata": {},
   "source": [
    "Em algumas redes com aprendizado não supervisionado (kohonen ou SOMs), organiza os seus neurônios com base na similaridade dos dados, sem precisar de um saída conhecida e simplesmente mapeando padrões e organizando os neurônios em regiões (clusters)."
   ]
  },
  {
   "cell_type": "markdown",
   "id": "b34528df",
   "metadata": {},
   "source": [
    "## Neurônio Biológico vs. Neurônio Artificial"
   ]
  },
  {
   "cell_type": "markdown",
   "id": "1a71a90f",
   "metadata": {},
   "source": [
    "- **Biológico**: corpo celular, dendritos, axônio, sinapse.\n",
    "- **Artificial**: entradas (X1, X2, ..., Xn), pesos (W1, W2, ..., Wn), saída Y.\n",
    "- Disparo acontece com **função de ativação** quando ultrapassa um **limiar**."
   ]
  },
  {
   "cell_type": "markdown",
   "id": "83c419df",
   "metadata": {},
   "source": [
    "### Neurônio Biológico - O que é e o que faz cada parte?"
   ]
  },
  {
   "cell_type": "markdown",
   "id": "892469db",
   "metadata": {},
   "source": [
    "| Parte | O que é | Função |\n",
    "|-------------|--------------|--------------|\n",
    "| Corpo celular  | Centro do neurônio (soma)   | Processa os sinais recebidos e decide se vai “disparar” um impulso   |\n",
    "| Dendritos  | Prolongamentos que chegam até o corpo celular   | Recebem sinais de outros neurônios   |\n",
    "| Axônio  | Prolongamento único, longo   | Transmite o impulso para outros neurônios   |\n",
    "| Sinapse  | Espaço entre o axônio de um neurônio e o dendrito de outro   | Onde o sinal é transferido entre neurônios (conexão química ou elétrica)   |\n",
    "\n",
    "![Neuronio](../img/aula11/neuronio.png)"
   ]
  },
  {
   "cell_type": "markdown",
   "id": "e8e75752",
   "metadata": {},
   "source": [
    "### Neurônio Artificial - O que é e a relação com o biológico ?"
   ]
  },
  {
   "cell_type": "markdown",
   "id": "21d4f385",
   "metadata": {},
   "source": [
    "| Parte Artificial | Relação com o Biológico | Função no Modelo Computacional |\n",
    "|-------------|--------------|--------------|\n",
    "| Entradas (X1...Xn)  | Equivalem aos dendritos   | Recebem os dados de entrada (ex: altura, idade, pixels de imagem)   |\n",
    "| Pesos (W1...Wn)  | Simulam as forças das sinapses   | Representam a importância de cada entrada (reforça ou enfraquece o sinal)   |\n",
    "| Saída (Y)  | Equivale ao axônio   | Resultado final após o processamento (ex: 0 = gato, 1 = cachorro)   |\n",
    "\n",
    "\n",
    "![Neuronio_Artificial](../img/aula11/neuronio_artificial.png)"
   ]
  },
  {
   "cell_type": "markdown",
   "id": "de16246b",
   "metadata": {},
   "source": [
    "### \"Disparo\" do Neurônio Artificial - O que é ?"
   ]
  },
  {
   "cell_type": "markdown",
   "id": "02f40ce8",
   "metadata": {},
   "source": [
    "- O neurônio **soma todas as entradas multiplicadas por seus pesos**.\n",
    "- Se essa soma ultrapassar um **limiar (threshold)**, a rede **ativa (dispara)** a saída.\n",
    "- Isso é feito usando uma **função de ativação**.\n",
    "\n",
    "**Exemplo Prático:**\n",
    "\n",
    "- Entradas: X1 = 0.9 (idade), X2 = 0.2 (renda)\n",
    "- Pesos: W1 = 0.5, W2 = 0.3\n",
    "- Limiar (threshold): 0.4\n",
    "\n",
    "**Soma Ponderada**\n",
    "\n",
    "soma = x1 * w1 + x2 * w2  \n",
    "soma = 0.9 * 0.5 + 0.2 * 0.3  \n",
    "soma = 0.45 + 0.06  \n",
    "soma = 0.51  "
   ]
  },
  {
   "cell_type": "markdown",
   "id": "27128620",
   "metadata": {},
   "source": [
    "**Função de Ativação**"
   ]
  },
  {
   "cell_type": "code",
   "execution_count": 1,
   "id": "ab23b097",
   "metadata": {},
   "outputs": [],
   "source": [
    "def ativacao(soma):\n",
    "    return 1 if soma >= 0.4 else 0"
   ]
  },
  {
   "cell_type": "markdown",
   "id": "3eb6e116",
   "metadata": {},
   "source": [
    "Como 0.51 > 0.4 -> o neurônio dispara (saída = 1)\n",
    "\n",
    "![Saida_artificial](../img/aula11/saida_artificial.png)\n",
    "\n",
    "**Analogia com o biológico:**\n",
    "\n",
    "É como se o neurônio biológico acumulasse sinais dos dendritos e, ao ultrapassar um certo nível de excitação, enviasse um impulso elétrico pelo axônio."
   ]
  },
  {
   "cell_type": "markdown",
   "id": "7d9f848b",
   "metadata": {},
   "source": [
    "## Arquiteturas"
   ]
  },
  {
   "cell_type": "markdown",
   "id": "a6bb1a2e",
   "metadata": {},
   "source": [
    "Nessa etapa iremos trabar o feedforward de um camada, sendo simples e com sinal unidirecional.\n",
    "\n",
    "Feedforward é um fluxo de decisões de uma única direção, sem ciclos ou loops para a tomada de decisão. "
   ]
  },
  {
   "cell_type": "markdown",
   "id": "5c1bc677",
   "metadata": {},
   "source": [
    "### 1. Feedforward de Uma Camada (Perceptron Simples)"
   ]
  },
  {
   "cell_type": "markdown",
   "id": "d6287fda",
   "metadata": {},
   "source": [
    "**Como funciona:**\n",
    "\n",
    "1. **Entrada:** Recebe os dados (ex: idade, peso).  \n",
    "2. **Pesos:** Cada entrada é multiplicada por um peso.  \n",
    "3. **Soma ponderada:** Soma todas as entradas ponderadas.  \n",
    "4. **Função de ativação:** Aplica uma função (ex: degrau, sigmoide).  \n",
    "5. **Saída:** Resultado binário (0 ou 1) ou contínuo.  \n",
    "\n",
    "**Tipo de Algoritmo:**\n",
    " - Perceptron (Usado para problemas linearmente separáveis)\n",
    " - Feedforward de múltiplasa camadas (Redes profundas ou deep learning)\n",
    "\n",
    "![perceptron](../img/aula11/perceptron.png)"
   ]
  },
  {
   "cell_type": "markdown",
   "id": "a2aef79f",
   "metadata": {},
   "source": [
    "### 2. Feedforward de Múltiplas Camadas (MLP = Multilayer Perceptron)"
   ]
  },
  {
   "cell_type": "markdown",
   "id": "d8a3f731",
   "metadata": {},
   "source": [
    "**Como funciona:**\n",
    "1. **Entrada:** Os dados são inseridos na camada de entrada.\n",
    "2. **Camadas ocultas:** Cada camada realiza somas e ativações.\n",
    "3. **Propagação direta:** O sinal vai da entrada até a saída sem loops.\n",
    "4. **Função de ativação:** Cada neurônio ativa conforme o limiar.\n",
    "5. **Saída:** Classificação ou valor contínuo.\n",
    "\n",
    "**Tipos de Algoritmo**\n",
    " - Backpropagation (Retropropagação de erro, usando em deep learning com múltiplas camadas).\n",
    " - Recorrente (RNN com laços e dados sequenciais)\n",
    "\n",
    "![MLP](../img/aula11/MLP.png)"
   ]
  },
  {
   "cell_type": "markdown",
   "id": "aacb152f",
   "metadata": {},
   "source": [
    "### 3. Redes Recorrentes (RNN - Recurrent Neural Network)"
   ]
  },
  {
   "cell_type": "markdown",
   "id": "8d5b94bc",
   "metadata": {},
   "source": [
    "**Como funciona:**\n",
    "\n",
    "1. **Entrada sequencial:** Recebe uma sequência de dados (ex: texto, som).\n",
    "2. **Memória interna:** A saída anterior é usada como entrada para o próximo passo.\n",
    "3. **Laços internos:** Cada neurônio da camada oculta é ligado a si mesmo no tempo seguinte.\n",
    "4. **Propagação temporal:** Os dados passam por tempo, influenciando uns aos outros.\n",
    "5. **Saída:** Pode ser uma sequência (tradução, previsão) ou um valor final (sentimento).\n",
    "\n",
    "**Tipo de algoritmo:**\n",
    " - RNN simples, LSTM, GRU (Usados em dados sequenciais e temporais)  \n",
    "   \n",
    "As RNNs são feitas de neurônios: nós de processamento de dados que trabalham juntos para realizar tarefas complexas.\n",
    "\n",
    "Os neurônios são organizados como camadas de entrada, saída e ocultas.\n",
    "\n",
    "A camada de entrada recebe as informações a serem processadas e a camada de saída fornece o resultado.   \n",
    "\n",
    "O processamento, a análise e a previsão de dados ocorrem na camada oculta.   \n",
    "\n",
    "![RNN](../img/aula11/RNN.png)\n",
    "\n",
    "- Cada **círculo grande (h)** representa o estado do neurônio em um tempo.\n",
    "- As **setas horizontais** mostram a **recorrência temporal** (memória).\n",
    "- As **setas verticais** mostram entrada e saída a cada passo do tempo.\n",
    "\n",
    "![RNN_especifico](../img/aula11/RNN_especifico.png)"
   ]
  },
  {
   "cell_type": "markdown",
   "id": "4b9dfddc",
   "metadata": {},
   "source": [
    "### Como as redes neurais recorrentes se comparam a outras redes de aprendizado profundo?"
   ]
  },
  {
   "cell_type": "markdown",
   "id": "cc5e8ef5",
   "metadata": {},
   "source": [
    "As RNNs são uma das várias arquiteturas de redes neurais diferentes.\n",
    "\n",
    "**Rede neural recorrente versus rede neural de feedback direto**  \n",
    "Assim como as RNNs, as redes neurais feed-forward são redes neurais artificiais que transmitem informações de uma extremidade à outra extremidade da arquitetura. Uma rede neural de feedback direto pode realizar tarefas simples de classificação, regressão ou reconhecimento, mas não consegue se lembrar da entrada anterior que processou. Por exemplo, ele esquece a Apple quando seu neurônio processa a palavra is. A RNN supera essa limitação de memória ao incluir um estado de memória oculta no neurônio.\n",
    "\n",
    "**Rede neural recorrente versus redes neurais convolucionais**  \n",
    "As redes neurais convolucionais são redes neurais artificiais projetadas para processar dados temporais. Você pode usar redes neurais convolucionais para extrair informações espaciais de vídeos e imagens, passando-as por uma série de camadas convolucionais e agrupadas na rede neural. As RNNs são projetadas para capturar dependências de longo prazo em dados sequenciais"
   ]
  },
  {
   "cell_type": "markdown",
   "id": "2955f197",
   "metadata": {},
   "source": [
    "## Pesos Oscilando (Problema no Aprendizado)"
   ]
  },
  {
   "cell_type": "markdown",
   "id": "cbdb07f1",
   "metadata": {},
   "source": [
    "![oscilacoes](../img/aula11/oscilacoes.png)\n",
    "\n",
    "**Gráfico da esquerda (pesos estabilizando):** Mostra que os pesos dos valor chegam a um ponto fixo e não possui mudanças, indicando que aprendeu as tarefas muito bem e não precisa ajustar.\n",
    "\n",
    "**Gráfico da direita (pesos oscilando):** MOstra pesos em mudanças bruscas de uma época para outra e isso indica:\n",
    "- **taxa de aprendizado muito alta** (os ajustes passam do ponto ideal)  \n",
    "- ou **dados conflitantes**, que confundem a rede  \n",
    "\n",
    "Não importa a opção, é necessario aplicar ajustes novamente."
   ]
  },
  {
   "cell_type": "markdown",
   "id": "dff8501b",
   "metadata": {},
   "source": [
    "## PARTE PRÁTICA (em Python) – Perceptron Simples"
   ]
  }
 ],
 "metadata": {
  "kernelspec": {
   "display_name": "Python 3",
   "language": "python",
   "name": "python3"
  },
  "language_info": {
   "codemirror_mode": {
    "name": "ipython",
    "version": 3
   },
   "file_extension": ".py",
   "mimetype": "text/x-python",
   "name": "python",
   "nbconvert_exporter": "python",
   "pygments_lexer": "ipython3",
   "version": "3.13.1"
  }
 },
 "nbformat": 4,
 "nbformat_minor": 5
}
