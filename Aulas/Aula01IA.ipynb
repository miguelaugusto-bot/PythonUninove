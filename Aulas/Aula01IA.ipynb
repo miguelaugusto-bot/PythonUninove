{
  "cells": [
    {
      "cell_type": "markdown",
      "metadata": {
        "id": "4bB2sZnGfeDV"
      },
      "source": [
        "# Tipos de Variaveis"
      ]
    },
    {
      "cell_type": "code",
      "execution_count": 1,
      "metadata": {
        "id": "nG9m6h9CfaXF"
      },
      "outputs": [],
      "source": [
        "idade = 30      #int\n",
        "altura = 1.75   #float\n",
        "nome = \"João\"\n",
        "is_estudante = True"
      ]
    },
    {
      "cell_type": "markdown",
      "metadata": {
        "id": "jCHYPel8gTAF"
      },
      "source": [
        "# Entrada de Dados"
      ]
    },
    {
      "cell_type": "code",
      "execution_count": 2,
      "metadata": {
        "id": "M4r6DxTDgVaT"
      },
      "outputs": [],
      "source": [
        "nome = input(\"Digite o seu nome:\")"
      ]
    },
    {
      "cell_type": "markdown",
      "metadata": {
        "id": "jMprFW_7gZ9g"
      },
      "source": [
        "# Saida de Dados"
      ]
    },
    {
      "cell_type": "code",
      "execution_count": 3,
      "metadata": {
        "colab": {
          "base_uri": "https://localhost:8080/"
        },
        "id": "QYGSi8jWgbfh",
        "outputId": "e8d43a8b-3f29-4b02-e3f1-4a4bace987e3"
      },
      "outputs": [
        {
          "name": "stdout",
          "output_type": "stream",
          "text": [
            "Olá, miguel! Você tem 25 anos.\n"
          ]
        }
      ],
      "source": [
        "idade = 25\n",
        "print(f\"Olá, {nome}! Você tem {idade} anos.\")"
      ]
    },
    {
      "cell_type": "markdown",
      "metadata": {
        "id": "bVmK91PBgxcT"
      },
      "source": [
        "# IF (condição simples)"
      ]
    },
    {
      "cell_type": "markdown",
      "metadata": {
        "id": "B7cwSYOtozoZ"
      },
      "source": [
        "Condição Simples"
      ]
    },
    {
      "cell_type": "code",
      "execution_count": null,
      "metadata": {
        "colab": {
          "base_uri": "https://localhost:8080/"
        },
        "id": "P4Z1wHpdg2mh",
        "outputId": "af2fa128-69be-4ca2-bc1b-eb5e6ce21728"
      },
      "outputs": [
        {
          "name": "stdout",
          "output_type": "stream",
          "text": [
            "Está calor!\n"
          ]
        }
      ],
      "source": [
        "temperatura = 32\n",
        "\n",
        "if temperatura > 30:\n",
        "  print(\"Está calor!\")"
      ]
    },
    {
      "cell_type": "markdown",
      "metadata": {
        "id": "oM49qpF6o2ox"
      },
      "source": [
        "Com Alternativa"
      ]
    },
    {
      "cell_type": "code",
      "execution_count": null,
      "metadata": {
        "id": "LYV3m51Uo5K1"
      },
      "outputs": [],
      "source": [
        "idade = 16\n",
        "if idade >= 18:\n",
        "  print(\"Pode dirigir.\")\n",
        "else:\n",
        "  print(\"Não pode dirigir.\")"
      ]
    },
    {
      "cell_type": "markdown",
      "metadata": {
        "id": "78_vOcZupBWb"
      },
      "source": [
        "Múltiplos Caminhos"
      ]
    },
    {
      "cell_type": "code",
      "execution_count": null,
      "metadata": {
        "colab": {
          "base_uri": "https://localhost:8080/"
        },
        "id": "L4sDebBOpELT",
        "outputId": "05f7375e-9f29-4c63-9494-11abfd92b3c2"
      },
      "outputs": [
        {
          "name": "stdout",
          "output_type": "stream",
          "text": [
            "C\n"
          ]
        }
      ],
      "source": [
        "nota = 72\n",
        "if nota>= 90:\n",
        "  conceito =\"A\"\n",
        "elif nota >= 80:\n",
        "  conceito = \"B\"\n",
        "elif nota >= 70:\n",
        "  conceito = \"C\"\n",
        "elif nota >= 60:\n",
        "  conceito = \"D\"\n",
        "else:\n",
        "  conceito = \"F\"\n",
        "\n",
        "print(conceito)"
      ]
    },
    {
      "cell_type": "markdown",
      "metadata": {
        "id": "rPcu5NzDpRcf"
      },
      "source": [
        "Condicionais Alinhadas"
      ]
    },
    {
      "cell_type": "code",
      "execution_count": null,
      "metadata": {
        "id": "lZENunZ7pTxZ"
      },
      "outputs": [],
      "source": [
        "idade = 20\n",
        "tem_carteira = True\n",
        "\n",
        "if idade >= 18:\n",
        "  if tem_carteira:\n",
        "    print(\"Pode dirigir legalmente.\")\n",
        "  else:\n",
        "    print(\"Maior de idade, mas sem carteira.\")\n",
        "else:\n",
        "  print(\"Menor de idade.\")"
      ]
    },
    {
      "cell_type": "markdown",
      "metadata": {
        "id": "vhmzaQjJpple"
      },
      "source": [
        "# Operadores de Comparação"
      ]
    },
    {
      "cell_type": "markdown",
      "metadata": {
        "id": "bSoPSwpUp8Jj"
      },
      "source": [
        "(==) igual\n",
        "---\n",
        "(!=) diferente\n",
        "---\n",
        "(>) maior que\n",
        "---\n",
        "(>=) maior ou igual\n",
        "---\n",
        "(<) menor que\n",
        "---\n",
        "(<=) menor ou igual\n",
        "---\n",
        "(in/ not in) pertence / não pertence\n",
        "---\n",
        "\n"
      ]
    },
    {
      "cell_type": "code",
      "execution_count": null,
      "metadata": {
        "id": "Uvt9sI8qpw9q"
      },
      "outputs": [],
      "source": [
        "print(5 == 5)   #True\n",
        "print(\"a\" in \"python\")  #False\n",
        "print(10 <= 7)  # False"
      ]
    },
    {
      "cell_type": "markdown",
      "metadata": {
        "id": "ulJA503xqfsL"
      },
      "source": [
        "# Operadores Lógicos"
      ]
    },
    {
      "cell_type": "markdown",
      "metadata": {
        "id": "l0zNhnnvrGns"
      },
      "source": [
        "(and) se ambos forem verdadeiros\n",
        "---\n",
        "(or) se pelo menos um for verdadeiro\n",
        "---\n",
        "(not) inverte a logica\n",
        "---\n",
        "\n"
      ]
    },
    {
      "cell_type": "code",
      "execution_count": null,
      "metadata": {
        "id": "qwOoqfJgqxN_"
      },
      "outputs": [],
      "source": [
        "idade = 22\n",
        "tem_carteira = True\n",
        "\n",
        "if idade >= 18 and tem_carteira:\n",
        "  print(\"Pode dirigir.\")\n",
        "\n",
        "tem_autorizacao = False\n",
        "if idade >= 18 or tem_autorizacao:\n",
        "  print(\"Pode dirigir, mesmo sem carteira.\")\n",
        "\n",
        "logado = False\n",
        "if not logado:\n",
        "  print(\"Faça login para continuar\")"
      ]
    },
    {
      "cell_type": "code",
      "execution_count": null,
      "metadata": {
        "colab": {
          "base_uri": "https://localhost:8080/"
        },
        "id": "yKOsEPCMrYRC",
        "outputId": "6bb71f44-b87d-4ddc-f5dc-cc68949c4ade"
      },
      "outputs": [
        {
          "name": "stdout",
          "output_type": "stream",
          "text": [
            "True\n",
            "False\n"
          ]
        }
      ],
      "source": [
        "a = True; b= False; c = True;\n",
        "print(a or b and not c)\n",
        "print((a or b)and (not c))"
      ]
    },
    {
      "cell_type": "markdown",
      "metadata": {
        "id": "seBflugnru-a"
      },
      "source": [
        "Curto-circuito (short-circuit)"
      ]
    },
    {
      "cell_type": "code",
      "execution_count": null,
      "metadata": {
        "id": "83rm3Sh3rzF0"
      },
      "outputs": [],
      "source": [
        "def caro():\n",
        "  print(\"Chamado!\")\n",
        "  return True\n",
        "\n",
        "# Aqui caro() NÃO é chamado, pois (True or ...) já é True\n",
        "if True or caro():\n",
        "  pass\n",
        "\n",
        "# Aqui caro() NÃO é chamado, pois (True or ...) já é True\n",
        "if False and caro():\n",
        "  pass\n"
      ]
    },
    {
      "cell_type": "markdown",
      "metadata": {
        "id": "qwYjmiPzsP2M"
      },
      "source": [
        "# \"Verdade\" Em Python (truthiness)"
      ]
    },
    {
      "cell_type": "code",
      "execution_count": null,
      "metadata": {
        "colab": {
          "base_uri": "https://localhost:8080/"
        },
        "id": "Kj1aqqhcsX_Z",
        "outputId": "a8a9390e-7324-49b8-f704-1b439c64cdca"
      },
      "outputs": [
        {
          "name": "stdout",
          "output_type": "stream",
          "text": [
            "Nome não informado.\n"
          ]
        }
      ],
      "source": [
        "#Alguns valores contam como falsos: False, None, 0, 0.0, '' (string vazia), [], {}, set(). Todo o resto é verdadeiro.\n",
        "nome = \"\"\n",
        "if not nome:\n",
        "  print(\"Nome não informado.\")"
      ]
    },
    {
      "cell_type": "markdown",
      "metadata": {
        "id": "UQ2NFFF8tKnW"
      },
      "source": [
        "# Exemplos"
      ]
    },
    {
      "cell_type": "code",
      "execution_count": null,
      "metadata": {
        "colab": {
          "base_uri": "https://localhost:8080/"
        },
        "id": "PZX_XRcusqJE",
        "outputId": "56e819b1-1d03-4158-f625-993a5ef010a5"
      },
      "outputs": [
        {
          "name": "stdout",
          "output_type": "stream",
          "text": [
            "Login OK\n"
          ]
        }
      ],
      "source": [
        "usuario = \"prof\"\n",
        "senha = \"1234\"\n",
        "\n",
        "if usuario == \"prof\" and senha == \"1234\":\n",
        "    print(\"Login OK\")\n",
        "else:\n",
        "    print(\"Credenciais inválidas\")\n"
      ]
    },
    {
      "cell_type": "code",
      "execution_count": null,
      "metadata": {
        "colab": {
          "base_uri": "https://localhost:8080/"
        },
        "id": "XFK2hHzKtIls",
        "outputId": "fe615f53-c241-4800-aa88-04727e0837a5"
      },
      "outputs": [
        {
          "name": "stdout",
          "output_type": "stream",
          "text": [
            "Sobrepeso\n"
          ]
        }
      ],
      "source": [
        "imc = 27.3\n",
        "\n",
        "if imc < 18.5:\n",
        "    categoria = \"Abaixo do peso\"\n",
        "elif imc < 25:\n",
        "    categoria = \"Peso normal\"\n",
        "elif imc < 30:\n",
        "    categoria = \"Sobrepeso\"\n",
        "else:\n",
        "    categoria = \"Obesidade\"\n",
        "\n",
        "print(categoria)"
      ]
    },
    {
      "cell_type": "code",
      "execution_count": null,
      "metadata": {
        "colab": {
          "base_uri": "https://localhost:8080/"
        },
        "id": "-OJg1riEtPeK",
        "outputId": "e42ec210-454c-4dbf-98df-f9b368e9195b"
      },
      "outputs": [
        {
          "name": "stdout",
          "output_type": "stream",
          "text": [
            "Arquivo de imagem aceito\n"
          ]
        }
      ],
      "source": [
        "extensao = \".png\"\n",
        "\n",
        "if extensao in (\".png\", \".jpg\", \".jpeg\"):\n",
        "    print(\"Arquivo de imagem aceito\")\n",
        "else:\n",
        "    print(\"Formato não suportado\")"
      ]
    },
    {
      "cell_type": "code",
      "execution_count": null,
      "metadata": {
        "colab": {
          "base_uri": "https://localhost:8080/"
        },
        "id": "wsRxwASXtQ5q",
        "outputId": "8c594779-fa89-44fa-ed76-3436bf07bdfc"
      },
      "outputs": [
        {
          "name": "stdout",
          "output_type": "stream",
          "text": [
            "Aprovado\n"
          ]
        }
      ],
      "source": [
        "idade = 19\n",
        "renda = 2500\n",
        "\n",
        "if idade >= 18:\n",
        "    if renda >= 2000:\n",
        "        print(\"Aprovado\")\n",
        "    else:\n",
        "        print(\"Renda insuficiente\")\n",
        "else:\n",
        "    print(\"Menor de idade\")\n",
        "\n"
      ]
    },
    {
      "cell_type": "code",
      "execution_count": null,
      "metadata": {
        "colab": {
          "base_uri": "https://localhost:8080/"
        },
        "id": "IbfnLivetT44",
        "outputId": "72160ccf-ec55-4e7d-9b36-82e81cd22ad3"
      },
      "outputs": [
        {
          "name": "stdout",
          "output_type": "stream",
          "text": [
            "Aprovado\n"
          ]
        }
      ],
      "source": [
        "if idade < 18:\n",
        "    print(\"Menor de idade\")\n",
        "elif renda < 2000:\n",
        "    print(\"Renda insuficiente\")\n",
        "else:\n",
        "    print(\"Aprovado\")\n"
      ]
    },
    {
      "cell_type": "markdown",
      "metadata": {
        "id": "Vp8mHXXKtXVK"
      },
      "source": [
        "# Expressão Condicional Curta"
      ]
    },
    {
      "cell_type": "code",
      "execution_count": null,
      "metadata": {
        "colab": {
          "base_uri": "https://localhost:8080/"
        },
        "id": "PiNzgL2EtbPy",
        "outputId": "9ddd2c2d-5faa-4bcb-9abf-d0a0ca22a503"
      },
      "outputs": [
        {
          "name": "stdout",
          "output_type": "stream",
          "text": [
            "Aprovado\n"
          ]
        }
      ],
      "source": [
        "nota = 75\n",
        "status = \"Aprovado\" if nota >= 60 else \"Reprovado\"\n",
        "print(status)"
      ]
    }
  ],
  "metadata": {
    "colab": {
      "provenance": []
    },
    "kernelspec": {
      "display_name": "Python 3 (ipykernel)",
      "language": "python",
      "name": "python3"
    },
    "language_info": {
      "codemirror_mode": {
        "name": "ipython",
        "version": 3
      },
      "file_extension": ".py",
      "mimetype": "text/x-python",
      "name": "python",
      "nbconvert_exporter": "python",
      "pygments_lexer": "ipython3",
      "version": "3.12.1"
    }
  },
  "nbformat": 4,
  "nbformat_minor": 0
}
