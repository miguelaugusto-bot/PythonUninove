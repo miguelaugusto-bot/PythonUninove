{
 "cells": [
  {
   "cell_type": "markdown",
   "id": "dac0f20d",
   "metadata": {},
   "source": [
    "# Pandas"
   ]
  },
  {
   "cell_type": "markdown",
   "id": "da27967e",
   "metadata": {},
   "source": [
    "importe a biblioteca pandas para trabalharmos com IA"
   ]
  },
  {
   "cell_type": "code",
   "execution_count": 13,
   "id": "38a194a6",
   "metadata": {},
   "outputs": [],
   "source": [
    "import pandas as pd #pip install pandas caso não tenha instalado na maquina"
   ]
  },
  {
   "cell_type": "markdown",
   "id": "b6dd4f2a",
   "metadata": {},
   "source": [
    "# Series e DataFrames"
   ]
  },
  {
   "cell_type": "markdown",
   "id": "fe6e28f3",
   "metadata": {},
   "source": [
    "- Series são matrizes unidimensionais rotulada, semelhantes a uma coluna em uma tabela\n",
    "- DataFrames são uma estrutura de dados bidimensionais rotuladas como uma tabela"
   ]
  },
  {
   "cell_type": "markdown",
   "id": "9d0385b1",
   "metadata": {},
   "source": [
    "Series:"
   ]
  },
  {
   "cell_type": "code",
   "execution_count": 18,
   "id": "31d73888",
   "metadata": {},
   "outputs": [
    {
     "name": "stdout",
     "output_type": "stream",
     "text": [
      "0    10\n",
      "1    20\n",
      "2    30\n",
      "3    40\n",
      "dtype: int64\n",
      "a    10\n",
      "b    20\n",
      "c    30\n",
      "d    40\n",
      "dtype: int64\n"
     ]
    }
   ],
   "source": [
    "# Criando uma Série a partir de uma lista\n",
    "data = [10, 20, 30, 40]\n",
    "series = pd.Series(data)\n",
    "print(series)\n",
    "\n",
    "# Criando uma Série com índices personalizados\n",
    "index = ['a', 'b', 'c', 'd'] \n",
    "series = pd.Series(data, index=index)\n",
    "print(series)"
   ]
  },
  {
   "cell_type": "markdown",
   "id": "ac7b78cc",
   "metadata": {},
   "source": [
    "DataFrame:"
   ]
  },
  {
   "cell_type": "code",
   "execution_count": 15,
   "id": "6a70f033",
   "metadata": {},
   "outputs": [
    {
     "name": "stdout",
     "output_type": "stream",
     "text": [
      "   Coluna1 Coluna2\n",
      "0        1       A\n",
      "1        2       B\n",
      "2        3       C\n"
     ]
    }
   ],
   "source": [
    "# Criando um DataFrame a partir de um dicionário\n",
    "data = {'Coluna1': [1, 2, 3], 'Coluna2': ['A', 'B', 'C']}\n",
    "df = pd.DataFrame(data)\n",
    "print(df)"
   ]
  },
  {
   "cell_type": "code",
   "execution_count": null,
   "id": "d6f41c27",
   "metadata": {},
   "outputs": [],
   "source": [
    "df = pd.read_csv('../database/meu_arquivo.csv')\n",
    "print(df)"
   ]
  },
  {
   "cell_type": "code",
   "execution_count": null,
   "id": "9f31eeb5",
   "metadata": {},
   "outputs": [],
   "source": [
    "df = pd.read_json('../database/meu_arquivo.json')\n",
    "print(df)"
   ]
  },
  {
   "cell_type": "code",
   "execution_count": null,
   "id": "a8754604",
   "metadata": {},
   "outputs": [],
   "source": [
    "# Lendo um arquivo CSV com dados possivelmente sujos\n",
    "df = pd.read_csv('../database/dados_sujos.csv')\n",
    "\n",
    "# Verificando os tipos de dados\n",
    "print(df.dtypes)\n",
    "\n",
    "# Convertendo a coluna 'Idade' para tipo numérico\n",
    "df['idade'] = pd.to_numeric(df['idade'], errors='coerce')\n",
    "\n",
    "# Removendo linhas com valores ausentes na coluna 'Idade'\n",
    "df.dropna(subset=['idade'], inplace=True)\n",
    "\n",
    "# Removendo duplicados\n",
    "df.drop_duplicates(inplace=True)\n",
    "\n",
    "# Salvando o DataFrame limpo\n",
    "df.to_csv('../database/dados_limpos.csv', index=False)"
   ]
  },
  {
   "cell_type": "code",
   "execution_count": null,
   "id": "7d8d1497",
   "metadata": {},
   "outputs": [],
   "source": [
    "import pandas as pd\n",
    "\n",
    "# Exemplo de DataFrame com valores nulos\n",
    "dados = {\n",
    "    'Nome': ['João', 'Maria', 'Pedro', None],\n",
    "    'Idade': [28, 35, None, 40],\n",
    "    'Cidade': ['São Paulo', 'Rio de Janeiro', 'Curitiba', None]\n",
    "}\n",
    "\n",
    "df = pd.DataFrame(dados)\n",
    "\n",
    "# Remover linhas que contenham valores nulos\n",
    "df_limpo = df.dropna()\n",
    "\n",
    "print(df_limpo)"
   ]
  },
  {
   "cell_type": "code",
   "execution_count": null,
   "id": "05cdf061",
   "metadata": {},
   "outputs": [],
   "source": [
    "# Preencher valores nulos na coluna 'Idade' com a média da idade\n",
    "df['Idade'].fillna(df['Idade'].mean(), inplace=True)\n",
    "\n",
    "print(df)"
   ]
  },
  {
   "cell_type": "code",
   "execution_count": 11,
   "id": "af913c6b",
   "metadata": {},
   "outputs": [
    {
     "name": "stdout",
     "output_type": "stream",
     "text": [
      "Nome      object\n",
      "Idade      int64\n",
      "Cidade    object\n",
      "dtype: object\n"
     ]
    }
   ],
   "source": [
    "# Converter a coluna 'Idade' para o tipo inteiro\n",
    "df['Idade'] = df['Idade'].astype(int)\n",
    "\n",
    "print(df.dtypes)  # Verificar os tipos de dados"
   ]
  },
  {
   "cell_type": "code",
   "execution_count": 12,
   "id": "d2705ae7",
   "metadata": {},
   "outputs": [
    {
     "name": "stdout",
     "output_type": "stream",
     "text": [
      "    Nome  Idade          Cidade\n",
      "0   João     28       São Paulo\n",
      "1  Maria     35  Rio de Janeiro\n",
      "2  Pedro     22        Curitiba\n"
     ]
    }
   ],
   "source": [
    "# Exemplo de DataFrame com dados duplicados\n",
    "dados = {\n",
    "    'Nome': ['João', 'Maria', 'Pedro', 'João'],\n",
    "    'Idade': [28, 35, 22, 28],\n",
    "    'Cidade': ['São Paulo', 'Rio de Janeiro', 'Curitiba', 'São Paulo']\n",
    "}\n",
    "\n",
    "df = pd.DataFrame(dados)\n",
    "\n",
    "# Remover duplicatas\n",
    "df_sem_duplicatas = df.drop_duplicates()\n",
    "\n",
    "print(df_sem_duplicatas)"
   ]
  }
 ],
 "metadata": {
  "kernelspec": {
   "display_name": "Python 3",
   "language": "python",
   "name": "python3"
  },
  "language_info": {
   "codemirror_mode": {
    "name": "ipython",
    "version": 3
   },
   "file_extension": ".py",
   "mimetype": "text/x-python",
   "name": "python",
   "nbconvert_exporter": "python",
   "pygments_lexer": "ipython3",
   "version": "3.13.1"
  }
 },
 "nbformat": 4,
 "nbformat_minor": 5
}
