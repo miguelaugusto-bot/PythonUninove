{
 "cells": [
  {
   "cell_type": "markdown",
   "id": "dac0f20d",
   "metadata": {},
   "source": [
    "# Pandas"
   ]
  },
  {
   "cell_type": "markdown",
   "id": "da27967e",
   "metadata": {},
   "source": [
    "importe a biblioteca pandas para trabalharmos com IA"
   ]
  },
  {
   "cell_type": "code",
   "execution_count": 1,
   "id": "38a194a6",
   "metadata": {},
   "outputs": [],
   "source": [
    "import pandas as pd"
   ]
  },
  {
   "cell_type": "code",
   "execution_count": 2,
   "id": "31d73888",
   "metadata": {},
   "outputs": [
    {
     "name": "stdout",
     "output_type": "stream",
     "text": [
      "0    10\n",
      "1    20\n",
      "2    30\n",
      "3    40\n",
      "dtype: int64\n",
      "a    10\n",
      "b    20\n",
      "c    30\n",
      "d    40\n",
      "dtype: int64\n"
     ]
    }
   ],
   "source": [
    "# Criando uma Série a partir de uma lista\n",
    "data = [10, 20, 30, 40]\n",
    "series = pd.Series(data)\n",
    "print(series)\n",
    "\n",
    "# Criando uma Série com índices personalizados\n",
    "index = ['a', 'b', 'c', 'd']\n",
    "series = pd.Series(data, index=index)\n",
    "print(series)"
   ]
  },
  {
   "cell_type": "code",
   "execution_count": 3,
   "id": "6a70f033",
   "metadata": {},
   "outputs": [
    {
     "name": "stdout",
     "output_type": "stream",
     "text": [
      "   Coluna1 Coluna2\n",
      "0        1       A\n",
      "1        2       B\n",
      "2        3       C\n"
     ]
    }
   ],
   "source": [
    "# Criando um DataFrame a partir de um dicionário\n",
    "data = {'Coluna1': [1, 2, 3], 'Coluna2': ['A', 'B', 'C']}\n",
    "df = pd.DataFrame(data)\n",
    "print(df)"
   ]
  },
  {
   "cell_type": "code",
   "execution_count": 5,
   "id": "d6f41c27",
   "metadata": {},
   "outputs": [
    {
     "name": "stdout",
     "output_type": "stream",
     "text": [
      "   id   nome  idade          cidade\n",
      "0   1   João     30       São Paulo\n",
      "1   2  Maria     25  Rio de Janeiro\n",
      "2   3  Pedro     35  Belo Horizonte\n",
      "3   4    Ana     28        Salvador\n"
     ]
    }
   ],
   "source": [
    "df = pd.read_csv('../database/meu_arquivo.csv')\n",
    "print(df)"
   ]
  },
  {
   "cell_type": "code",
   "execution_count": 7,
   "id": "9f31eeb5",
   "metadata": {},
   "outputs": [
    {
     "name": "stdout",
     "output_type": "stream",
     "text": [
      "   id   nome  idade          cidade\n",
      "0   1   João     30       São Paulo\n",
      "1   2  Maria     25  Rio de Janeiro\n",
      "2   3  Pedro     35  Belo Horizonte\n",
      "3   4    Ana     28        Salvador\n"
     ]
    }
   ],
   "source": [
    "df = pd.read_json('../database/meu_arquivo.json')\n",
    "print(df)"
   ]
  },
  {
   "cell_type": "code",
   "execution_count": 9,
   "id": "a8754604",
   "metadata": {},
   "outputs": [
    {
     "name": "stdout",
     "output_type": "stream",
     "text": [
      "id         int64\n",
      "nome      object\n",
      "idade     object\n",
      "cidade    object\n",
      "dtype: object\n"
     ]
    }
   ],
   "source": [
    "# Lendo um arquivo CSV com dados possivelmente sujos\n",
    "df = pd.read_csv('../database/dados_sujos.csv')\n",
    "\n",
    "# Verificando os tipos de dados\n",
    "print(df.dtypes)\n",
    "\n",
    "# Convertendo a coluna 'Idade' para tipo numérico\n",
    "df['idade'] = pd.to_numeric(df['idade'], errors='coerce')\n",
    "\n",
    "# Removendo linhas com valores ausentes na coluna 'Idade'\n",
    "df.dropna(subset=['idade'], inplace=True)\n",
    "\n",
    "# Removendo duplicados\n",
    "df.drop_duplicates(inplace=True)\n",
    "\n",
    "# Salvando o DataFrame limpo\n",
    "df.to_csv('../database/dados_limpos.csv', index=False)"
   ]
  },
  {
   "cell_type": "code",
   "execution_count": 10,
   "id": "7d8d1497",
   "metadata": {},
   "outputs": [
    {
     "name": "stdout",
     "output_type": "stream",
     "text": [
      "    Nome  Idade          Cidade\n",
      "0   João   28.0       São Paulo\n",
      "1  Maria   35.0  Rio de Janeiro\n"
     ]
    }
   ],
   "source": [
    "import pandas as pd\n",
    "\n",
    "# Exemplo de DataFrame com valores nulos\n",
    "dados = {\n",
    "    'Nome': ['João', 'Maria', 'Pedro', None],\n",
    "    'Idade': [28, 35, None, 40],\n",
    "    'Cidade': ['São Paulo', 'Rio de Janeiro', 'Curitiba', None]\n",
    "}\n",
    "\n",
    "df = pd.DataFrame(dados)\n",
    "\n",
    "# Remover linhas que contenham valores nulos\n",
    "df_limpo = df.dropna()\n",
    "\n",
    "print(df_limpo)"
   ]
  },
  {
   "cell_type": "code",
   "execution_count": 12,
   "id": "05cdf061",
   "metadata": {},
   "outputs": [
    {
     "name": "stdout",
     "output_type": "stream",
     "text": [
      "    Nome      Idade          Cidade\n",
      "0   João  28.000000       São Paulo\n",
      "1  Maria  35.000000  Rio de Janeiro\n",
      "2  Pedro  34.333333        Curitiba\n",
      "3   None  40.000000            None\n"
     ]
    },
    {
     "name": "stderr",
     "output_type": "stream",
     "text": [
      "/tmp/ipykernel_15806/455912156.py:2: FutureWarning: A value is trying to be set on a copy of a DataFrame or Series through chained assignment using an inplace method.\n",
      "The behavior will change in pandas 3.0. This inplace method will never work because the intermediate object on which we are setting values always behaves as a copy.\n",
      "\n",
      "For example, when doing 'df[col].method(value, inplace=True)', try using 'df.method({col: value}, inplace=True)' or df[col] = df[col].method(value) instead, to perform the operation inplace on the original object.\n",
      "\n",
      "\n",
      "  df['Idade'].fillna(df['Idade'].mean(), inplace=True)\n"
     ]
    }
   ],
   "source": [
    "# Preencher valores nulos na coluna 'Idade' com a média da idade\n",
    "df['Idade'].fillna(df['Idade'].mean(), inplace=True)\n",
    "\n",
    "print(df)"
   ]
  }
 ],
 "metadata": {
  "kernelspec": {
   "display_name": "Python 3",
   "language": "python",
   "name": "python3"
  },
  "language_info": {
   "codemirror_mode": {
    "name": "ipython",
    "version": 3
   },
   "file_extension": ".py",
   "mimetype": "text/x-python",
   "name": "python",
   "nbconvert_exporter": "python",
   "pygments_lexer": "ipython3",
   "version": "3.12.1"
  }
 },
 "nbformat": 4,
 "nbformat_minor": 5
}
