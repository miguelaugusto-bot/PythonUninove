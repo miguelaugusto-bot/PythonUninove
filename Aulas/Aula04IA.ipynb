{
 "cells": [
  {
   "cell_type": "markdown",
   "id": "dac0f20d",
   "metadata": {},
   "source": [
    "# Pandas"
   ]
  },
  {
   "cell_type": "markdown",
   "id": "da27967e",
   "metadata": {},
   "source": [
    "importe a biblioteca pandas para trabalharmos com IA"
   ]
  },
  {
   "cell_type": "code",
   "execution_count": 1,
   "id": "38a194a6",
   "metadata": {},
   "outputs": [],
   "source": [
    "import pandas as pd #pip install pandas caso não tenha instalado na maquina"
   ]
  },
  {
   "cell_type": "markdown",
   "id": "b6dd4f2a",
   "metadata": {},
   "source": [
    "# Series e DataFrames"
   ]
  },
  {
   "cell_type": "markdown",
   "id": "fe6e28f3",
   "metadata": {},
   "source": [
    "- Series são matrizes unidimensionais rotulada, semelhantes a uma coluna em uma tabela\n",
    "- DataFrames são uma estrutura de dados bidimensionais rotuladas como uma tabela"
   ]
  },
  {
   "cell_type": "markdown",
   "id": "9d0385b1",
   "metadata": {},
   "source": [
    "Series:"
   ]
  },
  {
   "cell_type": "code",
   "execution_count": 2,
   "id": "31d73888",
   "metadata": {},
   "outputs": [
    {
     "name": "stdout",
     "output_type": "stream",
     "text": [
      "0    10\n",
      "1    20\n",
      "2    30\n",
      "3    40\n",
      "dtype: int64\n",
      "a    10\n",
      "b    20\n",
      "c    30\n",
      "d    40\n",
      "dtype: int64\n"
     ]
    }
   ],
   "source": [
    "# Criando uma Série a partir de uma lista\n",
    "data = [10, 20, 30, 40]\n",
    "series = pd.Series(data)\n",
    "print(series)\n",
    "\n",
    "# Criando uma Série com índices personalizados\n",
    "index = ['a', 'b', 'c', 'd'] \n",
    "series = pd.Series(data, index=index)\n",
    "print(series)"
   ]
  },
  {
   "cell_type": "markdown",
   "id": "ac7b78cc",
   "metadata": {},
   "source": [
    "DataFrame:"
   ]
  },
  {
   "cell_type": "code",
   "execution_count": 3,
   "id": "6a70f033",
   "metadata": {},
   "outputs": [
    {
     "name": "stdout",
     "output_type": "stream",
     "text": [
      "   Coluna1 Coluna2\n",
      "0        1       A\n",
      "1        2       B\n",
      "2        3       C\n"
     ]
    }
   ],
   "source": [
    "# Criando um DataFrame a partir de um dicionário\n",
    "data = {'Coluna1': [1, 2, 3], 'Coluna2': ['A', 'B', 'C']}\n",
    "df = pd.DataFrame(data)\n",
    "print(df)"
   ]
  },
  {
   "cell_type": "markdown",
   "id": "1ec0ded8",
   "metadata": {},
   "source": [
    "# Leitura de Arquivo"
   ]
  },
  {
   "cell_type": "code",
   "execution_count": 4,
   "id": "d6f41c27",
   "metadata": {},
   "outputs": [
    {
     "name": "stdout",
     "output_type": "stream",
     "text": [
      "   id   nome  idade          cidade\n",
      "0   1   João     30       São Paulo\n",
      "1   2  Maria     25  Rio de Janeiro\n",
      "2   3  Pedro     35  Belo Horizonte\n",
      "3   4    Ana     28        Salvador\n"
     ]
    }
   ],
   "source": [
    "df = pd.read_csv('../database/meu_arquivo.csv')\n",
    "print(df)"
   ]
  },
  {
   "cell_type": "code",
   "execution_count": 5,
   "id": "9f31eeb5",
   "metadata": {},
   "outputs": [
    {
     "name": "stdout",
     "output_type": "stream",
     "text": [
      "   id   nome  idade          cidade\n",
      "0   1   João     30       São Paulo\n",
      "1   2  Maria     25  Rio de Janeiro\n",
      "2   3  Pedro     35  Belo Horizonte\n",
      "3   4    Ana     28        Salvador\n"
     ]
    }
   ],
   "source": [
    "df = pd.read_json('../database/meu_arquivo.json')\n",
    "print(df)"
   ]
  },
  {
   "cell_type": "markdown",
   "id": "4e99cf3e",
   "metadata": {},
   "source": [
    "# Limpeza de dados"
   ]
  },
  {
   "cell_type": "markdown",
   "id": "1665f535",
   "metadata": {},
   "source": [
    "Existem algumas formas de realizar a limpeza de dados sujos dentro do processo de IA\n",
    "\n",
    "- **Células vazias:**\n",
    "    - `df.isnull()` para identificar células vazias.\n",
    "    - `df.dropna()` para remover linhas com valores ausentes.\n",
    "    - `df.fillna()` para preencher valores ausentes com um valor específico.\n",
    "- **Dados em formato incorreto:**\n",
    "    - `pd.to_numeric()` para converter colunas para formato numérico.\n",
    "    - `pd.to_datetime()` para converter colunas para formato de data.\n",
    "- **Dados incorretos:**\n",
    "    - Utilizar filtros e máscaras para identificar e corrigir dados inconsistentes.\n",
    "- **Duplicados:**\n",
    "    - `df.duplicated()` para identificar linhas duplicadas.\n",
    "    - `df.drop_duplicates()` para remover linhas duplicadas."
   ]
  },
  {
   "cell_type": "markdown",
   "id": "e3a62fb1",
   "metadata": {},
   "source": [
    "Limpeza da Dados"
   ]
  },
  {
   "cell_type": "code",
   "execution_count": 6,
   "id": "a8754604",
   "metadata": {},
   "outputs": [
    {
     "name": "stdout",
     "output_type": "stream",
     "text": [
      "id         int64\n",
      "nome      object\n",
      "idade     object\n",
      "cidade    object\n",
      "dtype: object\n"
     ]
    }
   ],
   "source": [
    "# Lendo um arquivo CSV com dados possivelmente sujos\n",
    "df = pd.read_csv('../database/dados_sujos.csv')\n",
    "\n",
    "# Verificando os tipos de dados\n",
    "print(df.dtypes)\n",
    "\n",
    "# Convertendo a coluna 'Idade' para tipo numérico\n",
    "df['idade'] = pd.to_numeric(df['idade'], errors='coerce')\n",
    "\n",
    "# Removendo linhas com valores ausentes na coluna 'Idade'\n",
    "df.dropna(subset=['idade'], inplace=True)\n",
    "\n",
    "# Removendo duplicados\n",
    "df.drop_duplicates(inplace=True)\n",
    "\n",
    "# Salvando o DataFrame limpo\n",
    "df.to_csv('../database/dados_limpos.csv', index=False)"
   ]
  },
  {
   "cell_type": "markdown",
   "id": "bf6b5b04",
   "metadata": {},
   "source": [
    "Remoção de Valores Nulos dropna()"
   ]
  },
  {
   "cell_type": "code",
   "execution_count": 7,
   "id": "7d8d1497",
   "metadata": {},
   "outputs": [
    {
     "name": "stdout",
     "output_type": "stream",
     "text": [
      "    Nome  Idade          Cidade\n",
      "0   João   28.0       São Paulo\n",
      "1  Maria   35.0  Rio de Janeiro\n"
     ]
    }
   ],
   "source": [
    "import pandas as pd\n",
    "\n",
    "# Exemplo de DataFrame com valores nulos\n",
    "dados = {\n",
    "    'Nome': ['João', 'Maria', 'Pedro', None],\n",
    "    'Idade': [28, 35, None, 40],\n",
    "    'Cidade': ['São Paulo', 'Rio de Janeiro', 'Curitiba', None]\n",
    "}\n",
    "\n",
    "df = pd.DataFrame(dados)\n",
    "\n",
    "# Remover linhas que contenham valores nulos\n",
    "df_limpo = df.dropna()\n",
    "\n",
    "print(df_limpo)"
   ]
  },
  {
   "cell_type": "markdown",
   "id": "069d6cc1",
   "metadata": {},
   "source": [
    "Preencher valores nulos fillna()"
   ]
  },
  {
   "cell_type": "code",
   "execution_count": 8,
   "id": "05cdf061",
   "metadata": {},
   "outputs": [
    {
     "name": "stdout",
     "output_type": "stream",
     "text": [
      "    Nome      Idade          Cidade\n",
      "0   João  28.000000       São Paulo\n",
      "1  Maria  35.000000  Rio de Janeiro\n",
      "2  Pedro  34.333333        Curitiba\n",
      "3   None  40.000000            None\n"
     ]
    },
    {
     "name": "stderr",
     "output_type": "stream",
     "text": [
      "C:\\Users\\playe\\AppData\\Local\\Temp\\ipykernel_19484\\455912156.py:2: FutureWarning: A value is trying to be set on a copy of a DataFrame or Series through chained assignment using an inplace method.\n",
      "The behavior will change in pandas 3.0. This inplace method will never work because the intermediate object on which we are setting values always behaves as a copy.\n",
      "\n",
      "For example, when doing 'df[col].method(value, inplace=True)', try using 'df.method({col: value}, inplace=True)' or df[col] = df[col].method(value) instead, to perform the operation inplace on the original object.\n",
      "\n",
      "\n",
      "  df['Idade'].fillna(df['Idade'].mean(), inplace=True)\n"
     ]
    }
   ],
   "source": [
    "# Preencher valores nulos na coluna 'Idade' com a média da idade\n",
    "df['Idade'].fillna(df['Idade'].mean(), inplace=True)\n",
    "\n",
    "print(df)"
   ]
  },
  {
   "cell_type": "markdown",
   "id": "1113dead",
   "metadata": {},
   "source": [
    "Converter os tipos de dados"
   ]
  },
  {
   "cell_type": "code",
   "execution_count": 9,
   "id": "af913c6b",
   "metadata": {},
   "outputs": [
    {
     "name": "stdout",
     "output_type": "stream",
     "text": [
      "Nome      object\n",
      "Idade      int64\n",
      "Cidade    object\n",
      "dtype: object\n"
     ]
    }
   ],
   "source": [
    "# Converter a coluna 'Idade' para o tipo inteiro\n",
    "df['Idade'] = df['Idade'].astype(int)\n",
    "\n",
    "print(df.dtypes)  # Verificar os tipos de dados"
   ]
  },
  {
   "cell_type": "markdown",
   "id": "de588112",
   "metadata": {},
   "source": [
    "Remover duplicatas drop_duplicates()"
   ]
  },
  {
   "cell_type": "code",
   "execution_count": null,
   "id": "d2705ae7",
   "metadata": {},
   "outputs": [
    {
     "name": "stdout",
     "output_type": "stream",
     "text": [
      "    Nome  Idade          Cidade\n",
      "0   João     28       São Paulo\n",
      "1  Maria     35  Rio de Janeiro\n",
      "2  Pedro     22        Curitiba\n"
     ]
    }
   ],
   "source": [
    "# Exemplo de DataFrame com dados duplicados\n",
    "dados = {\n",
    "    'Nome': ['João', 'Maria', 'Pedro', 'João'],\n",
    "    'Idade': [28, 35, 22, 28],\n",
    "    'Cidade': ['Sao Paulo', 'Rio de Janeiro', 'Curitiba', 'Sao Paulo']\n",
    "}\n",
    "\n",
    "df = pd.DataFrame(dados)\n",
    "\n",
    "# Remover duplicatas\n",
    "df_sem_duplicatas = df.drop_duplicates()\n",
    "\n",
    "print(df_sem_duplicatas)"
   ]
  },
  {
   "cell_type": "markdown",
   "id": "ba17cb0c",
   "metadata": {},
   "source": [
    "# Análise de Dados"
   ]
  },
  {
   "cell_type": "markdown",
   "id": "0843e76f",
   "metadata": {},
   "source": [
    "- **head():** Mostra as primeiras linhas do DataFrame.\n",
    "- **tail():** Mostra as últimas linhas do DataFrame.\n",
    "- **info():** Mostra um resumo das informações do DataFrame, incluindo tipos de dados, quantidade de dados não nulos, etc."
   ]
  },
  {
   "cell_type": "code",
   "execution_count": 33,
   "id": "355fdeb2",
   "metadata": {},
   "outputs": [
    {
     "name": "stdout",
     "output_type": "stream",
     "text": [
      "    Nome  Idade          Cidade\n",
      "0   João     28       Sao Paulo\n",
      "1  Maria     35  Rio de Janeiro\n",
      "2  Pedro     22        Curitiba\n",
      "3   João     28       Sao Paulo\n",
      "    Nome  Idade          Cidade\n",
      "1  Maria     35  Rio de Janeiro\n",
      "2  Pedro     22        Curitiba\n",
      "3   João     28       Sao Paulo\n",
      "<class 'pandas.core.frame.DataFrame'>\n",
      "RangeIndex: 4 entries, 0 to 3\n",
      "Data columns (total 3 columns):\n",
      " #   Column  Non-Null Count  Dtype \n",
      "---  ------  --------------  ----- \n",
      " 0   Nome    4 non-null      object\n",
      " 1   Idade   4 non-null      int64 \n",
      " 2   Cidade  4 non-null      object\n",
      "dtypes: int64(1), object(2)\n",
      "memory usage: 228.0+ bytes\n",
      "None\n"
     ]
    }
   ],
   "source": [
    "print(df.head())\n",
    "print(df.tail(3))\n",
    "print(df.info())"
   ]
  },
  {
   "cell_type": "markdown",
   "id": "5141b083",
   "metadata": {},
   "source": [
    "Resumo estatístico com describe()"
   ]
  },
  {
   "cell_type": "code",
   "execution_count": 41,
   "id": "5458d8a0",
   "metadata": {},
   "outputs": [
    {
     "name": "stdout",
     "output_type": "stream",
     "text": [
      "           Idade  Salario\n",
      "count   3.000000      3.0\n",
      "mean   28.333333   3500.0\n",
      "std     6.506407    500.0\n",
      "min    22.000000   3000.0\n",
      "25%    25.000000   3250.0\n",
      "50%    28.000000   3500.0\n",
      "75%    31.500000   3750.0\n",
      "max    35.000000   4000.0\n"
     ]
    }
   ],
   "source": [
    "# DataFrame\n",
    "dados = {\n",
    "    'Nome': ['João', 'Maria', 'Pedro'],\n",
    "    'Idade': [28, 35, 22],\n",
    "    'Salario': [3000, 4000, 3500],\n",
    "    'Cidade': ['Sao Paulo', 'Rio de Janeiro', 'Curitiba']\n",
    "}\n",
    "\n",
    "df = pd.DataFrame(dados)\n",
    "\n",
    "#Obter um resumo estatístico das colunas numéricas\n",
    "print(df.describe())"
   ]
  },
  {
   "cell_type": "markdown",
   "id": "999f967c",
   "metadata": {},
   "source": [
    "Agrupamento de dados com groupby()"
   ]
  },
  {
   "cell_type": "code",
   "execution_count": 51,
   "id": "1e7348ce",
   "metadata": {},
   "outputs": [
    {
     "name": "stdout",
     "output_type": "stream",
     "text": [
      "                Idade\n",
      "Cidade               \n",
      "Curitiba         22.0\n",
      "Rio de Janeiro   35.0\n",
      "Sao Paulo        28.0\n"
     ]
    }
   ],
   "source": [
    "# Agrupar por cidade e calcular a média de idade e salário\n",
    "agrupado = df.groupby('Cidade')[['Idade']].mean() #para usar o groupby, precisa de 2 valores integros dentro do dataframe\n",
    "\n",
    "print(agrupado)"
   ]
  },
  {
   "cell_type": "markdown",
   "id": "9cd64ee7",
   "metadata": {},
   "source": [
    "Correlação entre colunas com corr()"
   ]
  },
  {
   "cell_type": "code",
   "execution_count": 52,
   "id": "a32d9eb8",
   "metadata": {},
   "outputs": [
    {
     "name": "stdout",
     "output_type": "stream",
     "text": [
      "            Idade   Salario\n",
      "Idade    1.000000  0.537931\n",
      "Salario  0.537931  1.000000\n"
     ]
    }
   ],
   "source": [
    "#Calcular a correlação entre as colunas numéricas\n",
    "correlacao = df[['Idade', 'Salario']].corr()\n",
    "\n",
    "print(correlacao)"
   ]
  },
  {
   "cell_type": "markdown",
   "id": "36261425",
   "metadata": {},
   "source": [
    "# Manipulação de Dados"
   ]
  },
  {
   "cell_type": "markdown",
   "id": "102eef20",
   "metadata": {},
   "source": [
    "Acessando linhas e colunas com loc (rótulo)"
   ]
  },
  {
   "cell_type": "code",
   "execution_count": 53,
   "id": "309f8f17",
   "metadata": {},
   "outputs": [
    {
     "name": "stdout",
     "output_type": "stream",
     "text": [
      "    Nome  Idade  Salario          Cidade\n",
      "1  Maria     35     4000  Rio de Janeiro\n"
     ]
    }
   ],
   "source": [
    "#Selecionar a linha onde o nome é \"Maria\"\n",
    "\n",
    "linha_maria = df.loc[df['Nome'] == 'Maria']\n",
    "\n",
    "print(linha_maria)"
   ]
  },
  {
   "cell_type": "markdown",
   "id": "5f6a22e5",
   "metadata": {},
   "source": [
    "Acessando linhas e colunas com iloc (índice)"
   ]
  },
  {
   "cell_type": "code",
   "execution_count": 54,
   "id": "9a48bb7e",
   "metadata": {},
   "outputs": [
    {
     "name": "stdout",
     "output_type": "stream",
     "text": [
      "Nome            João\n",
      "Idade             28\n",
      "Salario         3000\n",
      "Cidade     Sao Paulo\n",
      "Name: 0, dtype: object\n"
     ]
    }
   ],
   "source": [
    "#Selecionar a primeira linha (índice 0)\n",
    "primeira_linha = df.iloc[0]\n",
    "\n",
    "print(primeira_linha)"
   ]
  },
  {
   "cell_type": "markdown",
   "id": "8163a714",
   "metadata": {},
   "source": [
    "Filtrando colunas específicas com filter()"
   ]
  },
  {
   "cell_type": "code",
   "execution_count": 55,
   "id": "6d45c978",
   "metadata": {},
   "outputs": [
    {
     "name": "stdout",
     "output_type": "stream",
     "text": [
      "    Nome  Salario\n",
      "0   João     3000\n",
      "1  Maria     4000\n",
      "2  Pedro     3500\n"
     ]
    }
   ],
   "source": [
    "#Selecionar apenas as colunas 'Nome' e 'Salario'\n",
    "colunas_selecionadas = df.filter(items=['Nome', 'Salario'])\n",
    "\n",
    "print(colunas_selecionadas)"
   ]
  }
 ],
 "metadata": {
  "kernelspec": {
   "display_name": "Python 3",
   "language": "python",
   "name": "python3"
  },
  "language_info": {
   "codemirror_mode": {
    "name": "ipython",
    "version": 3
   },
   "file_extension": ".py",
   "mimetype": "text/x-python",
   "name": "python",
   "nbconvert_exporter": "python",
   "pygments_lexer": "ipython3",
   "version": "3.13.1"
  }
 },
 "nbformat": 4,
 "nbformat_minor": 5
}
