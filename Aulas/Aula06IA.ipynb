{
 "cells": [
  {
   "cell_type": "markdown",
   "id": "609b650f",
   "metadata": {},
   "source": [
    "# Aula 6 - Introdução a Estatística- 19/09/25"
   ]
  },
  {
   "cell_type": "markdown",
   "id": "2da4da68",
   "metadata": {},
   "source": [
    "Média - é um conjunto de dados encontrado e somando com todos em si, então dividios pelo quantidade dentro do conjunto com o resultado.\n",
    "\n",
    "Mediana - é o valor do meio quando o conjunto de dados esta ordenado do menor para o maior.\n",
    "\n",
    "Mode - é o número que aparece em maior recorrencia dentro do conjunto de dados."
   ]
  },
  {
   "cell_type": "markdown",
   "id": "b89d5c01",
   "metadata": {},
   "source": [
    "# Média"
   ]
  },
  {
   "cell_type": "markdown",
   "id": "f54518fb",
   "metadata": {},
   "source": [
    "A média (Me) é o calculo que soma-se todos os valores de um conjunto de dados e divide-os pelo números de elementos deste conjunto.  \n",
    "Como a média é uma medida sensível aos valores de amostra, sendo adequado para dados distribuidos de forma uniforme e que não possuia grandes discrepâncias.\n",
    "\n",
    "**Fórmula**  \n",
    "\n",
    "Me: média  \n",
    "x1, x2, x3, ..., xn: valores dos dados  \n",
    "n: número de elementos do conjunto de dados  \n",
    "\n",
    "*Ex:*  \n",
    "Os jogadores de uma equipe de basquete apresentam as seguintes idades: 28, 27, 19, 23 e 21 anos.  \n",
    "Qual a média de idade desta equipe?\n",
    "\n",
    "*Solução:*  \n",
    "Me = (28 + 27 + 19 + 23 + 21)/2\n",
    "Me = 118/2\n",
    "Me = 23,6\n"
   ]
  },
  {
   "cell_type": "markdown",
   "id": "35e49d48",
   "metadata": {},
   "source": [
    "# Moda"
   ]
  },
  {
   "cell_type": "markdown",
   "id": "1f25af9d",
   "metadata": {},
   "source": [
    "A Moda (Mo) representa o valor mais frequente do conjunto de dados, sendo a frequência que determinados valores aparecem.  \n",
    "Um conjunto de dados é chamado de bimodal quando apresenta duas modas, ou seja, dois valores são mais frequentes.\n",
    "\n",
    "*Ex:*  \n",
    "Em uma sapataria durante um dia foram vendidos os seguintes números de sapato: 34, 39, 36, 35, 37, 40, 36, 38, 36, 38 e 41.  \n",
    "Qual o valor da moda desta amostra?\n",
    "\n",
    "*Solução:*  \n",
    "Observando os números vendidos notamos que o número 36 foi o que apresentou maior frequência (3 pares), portanto, a moda é igual a:  \n",
    "[34, 39, 36, 35, 37, 40, 36, 38, 36, 38, 41]  \n",
    "Mo = 36  "
   ]
  },
  {
   "cell_type": "markdown",
   "id": "37863178",
   "metadata": {},
   "source": [
    "# Mediana"
   ]
  },
  {
   "cell_type": "markdown",
   "id": "a5274809",
   "metadata": {},
   "source": [
    "A Mediana (Md) representa o valor central do conjunto de dados encontrado quando os valores estão organizado em ordem crescente ou decrescente.  \n",
    "Quando o número de elementos do conjunto é par, a mediana é encontrada pela média dos dois valores centrais, basicamente somar e dividr por dois.  \n",
    "\n",
    "*Ex:*  \n",
    "Em uma escola, o professor de educação física anotou a altura de um grupo de alunos.  \n",
    "Considerando que os valores medidos foram: 1,54 m; 1,67 m, 1,50 m; 1,65 m; 1,75 m; 1,69 m; 1,60 m; 1,55 m e 1,78 m.  \n",
    "Qual o valor da mediana das alturas dos alunos?  \n",
    "\n",
    "*Solução:*  \n",
    "Primeiro devemos colocar os valores em ordem. Neste caso, colocaremos em ordem crescente. Assim, o conjunto de dados ficará:  \n",
    "\n",
    "1,50; 1,54; 1,55; 1,60; 1,65; 1,67; 1,69; 1,75; 1,78  \n",
    "\n",
    "Como o conjunto é formado por 9 elementos, que é um número ímpar, então a mediana será igual ao 5º elemento, ou seja:  \n",
    "\n",
    "Md = 1,65 m  \n",
    "\n",
    "*Ex:*  \n",
    "Calcule o valor da mediana da seguinte amostra de dados: (32, 27, 15, 44, 15, 32).  \n",
    "\n",
    "*Solução:*  \n",
    "Primeiro precisamos colocar os dados em ordem, assim temos:\n",
    "\n",
    "15, 15, **27, 32**, 32, 44  \n",
    "\n",
    "Md = 29,5  \n",
    "\n",
    "Como essa amostra é formada por 6 elementos, que é um número par, a mediana será igual a média dos elementos centrais, ou seja:  \n",
    "![medidas](../img/aula06/medidas.png)  \n",
    "\n",
    "Desvio Padrão e Variância são medidas de dispersão utilizadas em estatística para entender como os dados estão distribuídos em relação à média."
   ]
  },
  {
   "cell_type": "markdown",
   "id": "411e50f5",
   "metadata": {},
   "source": [
    "# Variância"
   ]
  },
  {
   "cell_type": "markdown",
   "id": "f72583cd",
   "metadata": {},
   "source": [
    "A variância mede o quão distante esta cada valor em um conjunto de dados se encontra da média. Se os dados estiverem próximos da média, a variância será pequena; se estiverem afastados, a variância será maior.  \n",
    "\n",
    "**Fórmula da variância (populacional):**  \n",
    "$$σ2=1N∑i=1N(xi−μ)2\\sigma^2 = \\frac{1}{N} \\sum_{i=1}^{N} (x_i - \\mu)^2$$\n",
    "\n",
    "$$σ2=N1i=1∑N(xi−μ)2$$\n",
    "\n",
    "**Fórmula da variância (amostral):**  \n",
    "$$s2=1n−1∑i=1n(xi−xˉ)2s^2 = \\frac{1}{n-1} \\sum_{i=1}^{n} (x_i - \\bar{x})^2$$\n",
    "\n",
    "$$s2=n−11i=1∑n(xi−xˉ)2$$\n",
    "\n"
   ]
  },
  {
   "cell_type": "markdown",
   "id": "15192736",
   "metadata": {},
   "source": [
    "# Desvio Padrão"
   ]
  },
  {
   "cell_type": "markdown",
   "id": "830c7698",
   "metadata": {},
   "source": [
    "O desvio padrão é a raiz quadrada da variância e oferece uma medida da dispersão em unidades originais dos dados. Ele é mais intuitivo que a variância, pois está na mesma unidade dos dados analisados.  \n",
    "\n",
    "**Fórmula do desvio padrão(populacional):**  \n",
    "$$σ=1N∑i=1N(xi−μ)2\\sigma = \\sqrt{\\frac{1}{N} \\sum_{i=1}^{N} (x_i - \\mu)^2}$$\n",
    "\n",
    "$$σ=N1i=1∑N(xi−μ)2$$\n",
    "\n",
    "**Fórmula do desvio padrão (amostral):**  \n",
    "\n",
    "$$s=1n−1∑i=1n(xi−xˉ)2s = \\sqrt{\\frac{1}{n-1} \\sum_{i=1}^{n} (x_i - \\bar{x})^2}$$\n",
    "\n",
    "$$s=n−11i=1∑n(xi−xˉ)2$$"
   ]
  },
  {
   "cell_type": "markdown",
   "id": "cfaf5c58",
   "metadata": {},
   "source": [
    "# Motivo de uso"
   ]
  },
  {
   "cell_type": "markdown",
   "id": "b44a7bc5",
   "metadata": {},
   "source": [
    "Essas duas medidas sáo usadas para entender a variabilidade dos dados:\n",
    "- **Variância** ajuda a avaliar a dispersão dos dados em relação à média, mas está em unidades ao quadrado, o que nem sempre é intuitivo.\n",
    "- **Desvio padrão** é mais fácil de interpretar porque está na mesma unidade dos dados originais.\n",
    "\n",
    "Essas medidas são cruciais em muitas áreas da ciência, economia e engenharia, porque indicam a consistência dos dados. Por exemplo, em análise de risco, o desvio padrão é utilizado para medir a volatilidade de um ativo."
   ]
  },
  {
   "cell_type": "markdown",
   "id": "e51064cb",
   "metadata": {},
   "source": [
    "### Exemplo Prático"
   ]
  },
  {
   "cell_type": "markdown",
   "id": "d998bbe8",
   "metadata": {},
   "source": [
    "Se tivermos os seguintes dados: 2,4,4,4,5,5,7,9/2, 4, 4, 4, 5, 5, 7, 9/2,4,4,4,5,5,7,9, você pode calcular a variância e o desvio padrão para entender quão dispersos estão em relação à média.  \n",
    "\n",
    "**Passo a Passo**  \n",
    "**1. Calcular a média**  \n",
    "\n",
    "Para efetuar esse processo, é necessario fazer a soma de todos os valores e dividias pela quantidade de valores que possui nos dados.  \n",
    "\n",
    "$$xˉ = \\frac{2 + 4 + 4 + 4 + 5 + 5 + 7 + 9}{8} = \\frac{40}{8} = 5$$\n",
    "\n",
    "**2. Calcular a Variância**  \n",
    "Agora, é necessario subtraímos a média de cada valor, elevando ao quadrado e somarmos:  \n",
    "(valor da amostra/população - media)^2  \n",
    "\n",
    "(2−5)^2 = (-3)^2 = 9  \n",
    "(4−5)2 = (−1)2 = 1(4 - 5)^2 = (-1)^2 = 1  \n",
    "(4−5)2 = (−1)2 = 1(4 - 5)^2 = (-1)^2 = 1  \n",
    "(4−5)2 = (−1)2 = 1(4 - 5)^2 = (-1)^2 = 1  \n",
    "(5−5)2 = (0)2 = 0(5 - 5)^2 = (0)^2 = 0  \n",
    "(5−5)2 = (0)2 = 0(5 - 5)^2 = (0)^2 = 0  \n",
    "(7−5)2 = (2)2 = 4(7 - 5)^2 = (2)^2 = 4  \n",
    "(9−5)2 = (4)2 = 16(9 - 5)^2 = (4)^2 = 16  \n",
    "\n",
    "Agora, basta somarmos os quadrados das diferenças:  \n",
    "9+1+1+1+0+0+4+16 = 32  \n",
    "\n",
    "Se você estiver calculando a variância **populacional:**  \n",
    "$$\\frac{32}{8} = 4$$\n",
    "\n",
    "Se estiver calculando a variância **amostral** (usando n-1n-1n-1 ao invés de nnn):  \n",
    "$$s2=328−1=327≈4.57s^2 = \\frac{32}{8-1} = \\frac{32}{7} \\approx 4.57$$\n",
    "\n",
    "$$s2=8−132=732≈4.57$$\n",
    "\n",
    "**3. Calcular o Desvio Padrão**  \n",
    "O devio padrão é a raiz quadrada da variância.  \n",
    "- Para variância populacional:  \n",
    "$$σ=4=2\\sigma = \\sqrt{4} = 2$$\n",
    "$$σ=4$$\n",
    "$$=2$$\n",
    "\n",
    "- Para variância amostral:  \n",
    "$$s=4.57≈2.14s = \\sqrt{4.57} \\approx 2.14$$\n",
    "$$s=4.57$$\n",
    "$$≈2.14$$\n",
    "\n",
    "***Resumo***  \n",
    "- **Média** = 5\n",
    "- **Variância populacional** = 4\n",
    "- **Desvio padrão populacional** = 2\n",
    "- **Variância amostral** = 4.57\n",
    "- **Desvio padrão amostral** = 2.14\n",
    "\n",
    "Esse cálculo te mostra como os dados estão distribuídos em torno da média. No caso acima, a dispersão é relativamente pequena, já que o desvio padrão é baixo.\n"
   ]
  },
  {
   "cell_type": "markdown",
   "id": "13a757fb",
   "metadata": {},
   "source": [
    "# Quartil, Percentil e Pocentagem"
   ]
  },
  {
   "cell_type": "markdown",
   "id": "958033d1",
   "metadata": {},
   "source": [
    "## O que são ?"
   ]
  },
  {
   "cell_type": "markdown",
   "id": "457acdaf",
   "metadata": {},
   "source": [
    "\n",
    "**Quartil:** Os quartis dividem um conjunto de dados em quatro partes iguais, sendo cada quartil a representação de 25% dos dados:  \n",
    "- Q1 (1º quartil): 25% dos dados estão abaixo desse valor.  \n",
    "- Q2 (2º quartil ou mediana): 50% dos dados estão abaixo desse valor.  \n",
    "- Q3 (3º quartil): 75% dos dados estão abaixo desse valor.  \n",
    "\n",
    "**Percentil:** Os percentis são dividios em 100 partes iguais dos dados e cada um indicando a posição de um dados em relação ao restante. Por exemplo, percentil 90 indica que é 90% dos dados abaixo daquele valor.  \n",
    "\n",
    "**Porcentagem:** É a representação de uma parte de um todo, dividido em 100 partes iguais, muito usado para medir proporções ou o percentual de um valor em relação ao total."
   ]
  },
  {
   "cell_type": "markdown",
   "id": "a2353d40",
   "metadata": {},
   "source": [
    "## Como usar ?"
   ]
  },
  {
   "cell_type": "markdown",
   "id": "daf4f745",
   "metadata": {},
   "source": [
    "### Quartis"
   ]
  },
  {
   "cell_type": "markdown",
   "id": "814bc5fe",
   "metadata": {},
   "source": [
    "São utilizados em estatística para medir a dipersão de dados, auxiliando em identificar como estão distruidos os dados e a presença de outliers(valores fora do esperado).  \n",
    "\n",
    "![Quartis01](../img/aula06/quartis01.png)  \n",
    "\n",
    "![Quartis02](../img/aula06/quartis02.png)  \n",
    "\n",
    "![Quartis03](../img/aula06/quartis03.png)  \n",
    "\n",
    "![Quartis04](../img/aula06/quartis04.png)  \n",
    "\n",
    "***Calculo***  \n",
    "1. Organize os dados em ordem crescente.\n",
    "2. Para encontrar Q1, divida os dados em 4 partes e localize o ponto em que 25% dos dados estão abaixo.\n",
    "3. Para Q2 (mediana), encontre o valor do meio dos dados.\n",
    "4. Para Q3, localize o ponto onde 75% dos dados estão abaixo."
   ]
  },
  {
   "cell_type": "markdown",
   "id": "136a1b7a",
   "metadata": {},
   "source": [
    "### Percentis"
   ]
  },
  {
   "cell_type": "markdown",
   "id": "84fb103f",
   "metadata": {},
   "source": [
    "são usados para comparar valores grandes de um conjunto de dados. Por exemplo, no resultado de um teste, um estudante que está no percentil 85 performou melhor que 85% dos demais.\n",
    "\n",
    "![percentil](../img/aula06/percentil.png)\n",
    "\n",
    "***Calculo***  \n",
    "1. Organize os dados.\n",
    "2. A fórmula para encontrar o k-ésimo percentil é:  \n",
    "$$P_k = \\frac{k}{100} \\times (n + 1)$$\n",
    "\n",
    "3. Onde \"k\" é o percentil desejado e \"n\" é o número total de dados."
   ]
  },
  {
   "cell_type": "markdown",
   "id": "24fc2146",
   "metadata": {},
   "source": [
    "### Porcentagens"
   ]
  },
  {
   "cell_type": "markdown",
   "id": "27e067a6",
   "metadata": {},
   "source": [
    "São usados em várias áreas para expressar proporções como em resultados de pesquisa, crescimento, lucro, dentre outros.  \n",
    "\n",
    "***Calculo***  \n",
    "1. Divida a parte pelo todo.\n",
    "2. Multiplique o resultado por 100.\n",
    "\n",
    "$$2\\%= \\frac{2}{100} = \\frac{1}{50} = 0,02$$\n",
    "$$10\\%= \\frac{10}{100} = \\frac{1}{10} = 0,1$$\n",
    "$$50\\%= \\frac{50}{100} = \\frac{1}{2} = 0,5$$\n",
    "$$100\\%= \\frac{100}{100} = \\frac{1}{1} = 1$$\n",
    "$$210\\%= \\frac{210}{100} = \\frac{21}{10} = 2,1$$"
   ]
  },
  {
   "cell_type": "markdown",
   "id": "76919b0b",
   "metadata": {},
   "source": [
    "# Exemplo Prático (com quartis)"
   ]
  },
  {
   "cell_type": "markdown",
   "id": "eed9fd40",
   "metadata": {},
   "source": [
    "Dado o conjunto de dados: [12, 15, 17, 20, 24, 30, 45, 50, 60]\n",
    "\n",
    "- Ordenado: [12, 15, 17, 20, 24, 30, 45, 50, 60]\n",
    "- Q1: Valor que separa os 25% inferiores. Neste caso, Q1 ≈ 17.\n",
    "- Mediana (Q2): Valor que separa os 50% dos dados, Q2 = 24.\n",
    "- Q3: Valor que separa os 75%, Q3 ≈ 45.\n",
    "\n",
    "**Mediana e Gráficos com Quartis**  \n",
    "A mediana é o valor do meio quando os dados estão organizados. É usada com os quartis para representar a dispersão dos dados, e frequentemente aparece em gráficos como boxplot (diagrama de caixa).\n",
    "\n",
    "Um **boxplot** usa quartis para visualizar a distribuição de dados:\n",
    "\n",
    "- O retângulo vai de Q1 a Q3.\n",
    "- A linha no meio do retângulo representa a mediana (Q2).\n",
    "- As \"extensões\" (whiskers) mostram os valores mínimos e máximos, e os outliers são indicados como pontos fora do whisker."
   ]
  },
  {
   "cell_type": "markdown",
   "id": "4c740dd1",
   "metadata": {},
   "source": [
    "## Em python\n",
    "Vamos usar a biblioteca numpy para cálculos e matplotlib para gráficos."
   ]
  },
  {
   "cell_type": "code",
   "execution_count": 1,
   "id": "589c0ebb",
   "metadata": {},
   "outputs": [
    {
     "name": "stdout",
     "output_type": "stream",
     "text": [
      "Q1: 17.0\n",
      "Mediana (Q2): 24.0\n",
      "Q3: 45.0\n"
     ]
    },
    {
     "data": {
      "image/png": "[encoded data removed]",
      "text/plain": [
       "<Figure size 640x480 with 1 Axes>"
      ]
     },
     "metadata": {},
     "output_type": "display_data"
    }
   ],
   "source": [
    "import numpy as np\n",
    "import matplotlib.pyplot as plt\n",
    "\n",
    "# Dados\n",
    "dados = [12, 15, 17, 20, 24, 30, 45, 50, 60]\n",
    "\n",
    "# Cálculo dos Quartis\n",
    "Q1 = np.percentile(dados, 25)\n",
    "mediana = np.median(dados)\n",
    "Q3 = np.percentile(dados, 75)\n",
    "\n",
    "print(f\"Q1: {Q1}\")\n",
    "print(f\"Mediana (Q2): {mediana}\")\n",
    "print(f\"Q3: {Q3}\")\n",
    "\n",
    "# Gráfico: Boxplot\n",
    "plt.boxplot(dados)\n",
    "plt.title('Boxplot dos Dados')\n",
    "plt.ylabel('Valores')\n",
    "plt.show()\n"
   ]
  },
  {
   "cell_type": "markdown",
   "id": "7a2d465f",
   "metadata": {},
   "source": [
    "- **`np.percentile`**: Calcula o percentil. Para Q1, usamos o percentil 25, e para Q3, o percentil 75.\n",
    "- **`np.median`**: Calcula a mediana dos dados.\n",
    "- **`plt.boxplot`**: Cria um gráfico de boxplot, que mostra a dispersão dos dados com os quartis."
   ]
  }
 ],
 "metadata": {
  "kernelspec": {
   "display_name": "Python 3",
   "language": "python",
   "name": "python3"
  },
  "language_info": {
   "codemirror_mode": {
    "name": "ipython",
    "version": 3
   },
   "file_extension": ".py",
   "mimetype": "text/x-python",
   "name": "python",
   "nbconvert_exporter": "python",
   "pygments_lexer": "ipython3",
   "version": "3.13.9"
  }
 },
 "nbformat": 4,
 "nbformat_minor": 5
}
