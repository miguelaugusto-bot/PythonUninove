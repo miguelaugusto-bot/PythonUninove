{
 "cells": [
  {
   "cell_type": "markdown",
   "id": "609b650f",
   "metadata": {},
   "source": [
    "# Aula 6 - Introdução a Estatística- 19/09/25"
   ]
  },
  {
   "cell_type": "markdown",
   "id": "2da4da68",
   "metadata": {},
   "source": [
    "Média - é um conjunto de dados encontrado e somando com todos em si, então dividios pelo quantidade dentro do conjunto com o resultado.\n",
    "\n",
    "Mediana - é o valor do meio quando o conjunto de dados esta ordenado do menor para o maior.\n",
    "\n",
    "Mode - é o número que aparece em maior recorrencia dentro do conjunto de dados."
   ]
  },
  {
   "cell_type": "markdown",
   "id": "b89d5c01",
   "metadata": {},
   "source": [
    "# Média"
   ]
  },
  {
   "cell_type": "markdown",
   "id": "f54518fb",
   "metadata": {},
   "source": [
    "A média (Me) é o calculo que soma-se todos os valores de um conjunto de dados e divide-os pelo números de elementos deste conjunto.  \n",
    "Como a média é uma medida sensível aos valores de amostra, sendo adequado para dados distribuidos de forma uniforme e que não possuia grandes discrepâncias.\n",
    "\n",
    "**Fórmula**  \n",
    "\n",
    "Me: média  \n",
    "x1, x2, x3, ..., xn: valores dos dados  \n",
    "n: número de elementos do conjunto de dados  \n",
    "\n",
    "*Ex:*  \n",
    "Os jogadores de uma equipe de basquete apresentam as seguintes idades: 28, 27, 19, 23 e 21 anos.  \n",
    "Qual a média de idade desta equipe?\n",
    "\n",
    "*Solução:*  \n",
    "Me = (28 + 27 + 19 + 23 + 21)/2\n",
    "Me = 118/2\n",
    "Me = 23,6\n"
   ]
  },
  {
   "cell_type": "markdown",
   "id": "35e49d48",
   "metadata": {},
   "source": [
    "# Moda"
   ]
  },
  {
   "cell_type": "markdown",
   "id": "1f25af9d",
   "metadata": {},
   "source": [
    "A Moda (Mo) representa o valor mais frequente do conjunto de dados, sendo a frequência que determinados valores aparecem.  \n",
    "Um conjunto de dados é chamado de bimodal quando apresenta duas modas, ou seja, dois valores são mais frequentes.\n",
    "\n",
    "*Ex:*  \n",
    "Em uma sapataria durante um dia foram vendidos os seguintes números de sapato: 34, 39, 36, 35, 37, 40, 36, 38, 36, 38 e 41.  \n",
    "Qual o valor da moda desta amostra?\n",
    "\n",
    "*Solução:*  \n",
    "Observando os números vendidos notamos que o número 36 foi o que apresentou maior frequência (3 pares), portanto, a moda é igual a:  \n",
    "[34, 39, 36, 35, 37, 40, 36, 38, 36, 38, 41]  \n",
    "Mo = 36  "
   ]
  },
  {
   "cell_type": "markdown",
   "id": "37863178",
   "metadata": {},
   "source": [
    "# Mediana"
   ]
  },
  {
   "cell_type": "markdown",
   "id": "a5274809",
   "metadata": {},
   "source": [
    "A Mediana (Md) representa o valor central do conjunto de dados encontrado quando os valores estão organizado em ordem crescente ou decrescente.  \n",
    "Quando o número de elementos do conjunto é par, a mediana é encontrada pela média dos dois valores centrais, basicamente somar e dividr por dois.  \n",
    "\n",
    "*Ex:*  \n",
    "Em uma escola, o professor de educação física anotou a altura de um grupo de alunos.  \n",
    "Considerando que os valores medidos foram: 1,54 m; 1,67 m, 1,50 m; 1,65 m; 1,75 m; 1,69 m; 1,60 m; 1,55 m e 1,78 m.  \n",
    "Qual o valor da mediana das alturas dos alunos?  \n",
    "\n",
    "*Solução:*  \n",
    "Primeiro devemos colocar os valores em ordem. Neste caso, colocaremos em ordem crescente. Assim, o conjunto de dados ficará:  \n",
    "\n",
    "1,50; 1,54; 1,55; 1,60; 1,65; 1,67; 1,69; 1,75; 1,78  \n",
    "\n",
    "Como o conjunto é formado por 9 elementos, que é um número ímpar, então a mediana será igual ao 5º elemento, ou seja:  \n",
    "\n",
    "Md = 1,65 m  \n",
    "\n",
    "*Ex:*  \n",
    "Calcule o valor da mediana da seguinte amostra de dados: (32, 27, 15, 44, 15, 32).  \n",
    "\n",
    "*Solução:*  \n",
    "Primeiro precisamos colocar os dados em ordem, assim temos:\n",
    "\n",
    "15, 15, **27, 32**, 32, 44  \n",
    "\n",
    "Md = 29,5  \n",
    "\n",
    "Como essa amostra é formada por 6 elementos, que é um número par, a mediana será igual a média dos elementos centrais, ou seja:  \n",
    "![medidas](../img/aula06/medidas.png)  \n",
    "\n",
    "Desvio Padrão e Variância são medidas de dispersão utilizadas em estatística para entender como os dados estão distribuídos em relação à média."
   ]
  },
  {
   "cell_type": "markdown",
   "id": "411e50f5",
   "metadata": {},
   "source": [
    "## Variância"
   ]
  },
  {
   "cell_type": "markdown",
   "id": "f72583cd",
   "metadata": {},
   "source": [
    "A variância mede o quão distante esta cada valor em um conjunto de dados se encontra da média. Se os dados estiverem próximos da média, a variância será pequena; se estiverem afastados, a variância será maior.  \n",
    "\n",
    "**Fórmula da variância (populacional):**  \n",
    "$$σ2=1N∑i=1N(xi−μ)2\\sigma^2 = \\frac{1}{N} \\sum_{i=1}^{N} (x_i - \\mu)^2  \n",
    "\n",
    "$$σ2=N1i=1∑N(xi−μ)2  \n",
    "\n",
    "**Fórmula da variância (amostral):**  \n",
    "$$s2=1n−1∑i=1n(xi−xˉ)2s^2 = \\frac{1}{n-1} \\sum_{i=1}^{n} (x_i - \\bar{x})^2$$  \n",
    "\n",
    "s2=n−11i=1∑n(xi−xˉ)2  \n",
    "\n"
   ]
  },
  {
   "cell_type": "markdown",
   "id": "15192736",
   "metadata": {},
   "source": [
    "## Desvio Padrão"
   ]
  },
  {
   "cell_type": "markdown",
   "id": "830c7698",
   "metadata": {},
   "source": [
    "O desvio padrão é a raiz quadrada da variância e oferece uma medida da dispersão em unidades originais dos dados. Ele é mais intuitivo que a variância, pois está na mesma unidade dos dados analisados.  \n",
    "\n",
    "**Fórmula do desvio padrão(populacional):**  \n",
    "$$σ=1N∑i=1N(xi−μ)2\\sigma = \\sqrt{\\frac{1}{N} \\sum_{i=1}^{N} (x_i - \\mu)^2}  \n",
    "\n",
    "$$σ=N1i=1∑N(xi−μ)2"
   ]
  },
  {
   "cell_type": "markdown",
   "id": "cfaf5c58",
   "metadata": {},
   "source": []
  }
 ],
 "metadata": {
  "language_info": {
   "name": "python"
  }
 },
 "nbformat": 4,
 "nbformat_minor": 5
}
