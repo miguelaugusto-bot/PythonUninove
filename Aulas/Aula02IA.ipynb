{
 "cells": [
  {
   "cell_type": "markdown",
   "id": "04746d62",
   "metadata": {},
   "source": [
    "# Lists (Listas)"
   ]
  },
  {
   "cell_type": "markdown",
   "id": "24dbbf3a",
   "metadata": {},
   "source": [
    "- As listas são coleções ordenadas de itens que podem ser de tipos diferentes.\n",
    "- As listas são mutáveis, o que significa que seus elementos podem ser modificados após a criação.\n",
    "- Use listas quando precisar de uma coleção ordenada de elementos que possa ser modificada ao longo do tempo."
   ]
  },
  {
   "cell_type": "code",
   "execution_count": 1,
   "id": "d9d784b4",
   "metadata": {},
   "outputs": [
    {
     "ename": "ValueError",
     "evalue": "2 is not in list",
     "output_type": "error",
     "traceback": [
      "\u001b[31m---------------------------------------------------------------------------\u001b[39m",
      "\u001b[31mValueError\u001b[39m                                Traceback (most recent call last)",
      "\u001b[36mCell\u001b[39m\u001b[36m \u001b[39m\u001b[32mIn[1]\u001b[39m\u001b[32m, line 22\u001b[39m\n\u001b[32m     19\u001b[39m minha_lista.sort() \u001b[38;5;66;03m#Organiza os elementos de forma crescente\u001b[39;00m\n\u001b[32m     20\u001b[39m minha_lista.reverse \u001b[38;5;66;03m#Inverte a ordem da lista \u001b[39;00m\n\u001b[32m---> \u001b[39m\u001b[32m22\u001b[39m index = \u001b[43mminha_lista\u001b[49m\u001b[43m.\u001b[49m\u001b[43mindex\u001b[49m\u001b[43m(\u001b[49m\u001b[32;43m2\u001b[39;49m\u001b[43m)\u001b[49m \u001b[38;5;66;03m#Retorna um valor especifico da lista\u001b[39;00m\n\u001b[32m     24\u001b[39m contagem = minha_lista.count(\u001b[32m2\u001b[39m) \u001b[38;5;66;03m#Conta a quantidade de vezes que aparece o valor solicitado\u001b[39;00m\n",
      "\u001b[31mValueError\u001b[39m: 2 is not in list"
     ]
    }
   ],
   "source": [
    "minha_lista = [1, 2, 3, 4, 5]\n",
    "\n",
    "minha_lista[0] #Para fazer acesso precisa chamar a lista e solicitar o indice\n",
    "\n",
    "minha_lista[0] = 10 #Para modificar algo na lista \n",
    "\n",
    "minha_lista.append(6) #Para adicionar valores na lista\n",
    "\n",
    "minha_lista.remove(3) #Para remover valores especificos se houver\n",
    "\n",
    "#Existem diversos outros operadores que modifica e altera a lista\n",
    "minha_lista.extend([4, 5, 6]) #Adiciona valores de outra lista \n",
    "\n",
    "minha_lista.insert(1, 'a') #Insere um elemento em uma posição especifica\n",
    "\n",
    "minha_lista.pop(1) #Remover um valor da lista ou...\n",
    "elemento = minha_lista.pop(1) #...ou retorna um valor na posição especifica\n",
    "\n",
    "minha_lista.sort() #Organiza os elementos de forma crescente\n",
    "minha_lista.reverse #Inverte a ordem da lista \n",
    "\n",
    "index = minha_lista.index(2) #Retorna um valor especifico da lista\n",
    "\n",
    "contagem = minha_lista.count(2) #Conta a quantidade de vezes que aparece o valor solicitado"
   ]
  },
  {
   "cell_type": "markdown",
   "id": "6b08e1e8",
   "metadata": {},
   "source": [
    "# Tuples (Tuplas)"
   ]
  },
  {
   "cell_type": "markdown",
   "id": "b28b3d96",
   "metadata": {},
   "source": [
    "- Tuplas são similares a listas, porém são imutáveis, ou seja, uma vez criadas, seus elementos não podem ser alterados.\n",
    "- Prefira tuplas em casos onde a integridade dos dados é crítica."
   ]
  },
  {
   "cell_type": "code",
   "execution_count": null,
   "id": "31921688",
   "metadata": {},
   "outputs": [],
   "source": [
    "minha_tupla = (1, 2, 3, 4, 5)\n",
    "\n",
    "minha_tupla[0]\n",
    "\n",
    "nova_tupla = minha_tupla + (6, 7)\n",
    "\n",
    "#Diferente das listas, as tuplas não podem ser alteraveis"
   ]
  },
  {
   "cell_type": "markdown",
   "id": "4d85e59c",
   "metadata": {},
   "source": [
    "# Sets (Conjuntos)"
   ]
  },
  {
   "cell_type": "markdown",
   "id": "c66bcab2",
   "metadata": {},
   "source": [
    "- Sets são coleções não ordenadas de elementos únicos. Eles são usados para armazenar itens sem duplicatas e suportam operações matemáticas como união e interseção.\n",
    "- Utilize sets quando precisar trabalhar com coleções de elementos únicos e realizar operações de conjunto."
   ]
  },
  {
   "cell_type": "code",
   "execution_count": null,
   "id": "a44db16d",
   "metadata": {},
   "outputs": [
    {
     "data": {
      "text/plain": [
       "{1, 2, 3, 4, 5}"
      ]
     },
     "execution_count": 15,
     "metadata": {},
     "output_type": "execute_result"
    }
   ],
   "source": [
    "set1 = {1, 2, 3, 4, 5}\n",
    "set2 = {6, 7, 8, 9, 10}\n",
    "\n",
    "set1.union(set2) #Uni os valores\n",
    "set1.intersection(set2) #Interseção\n",
    "set1.difference(set2) #Diferença\n",
    "\n",
    "#É util para eliminiar valores duplicados, evitando o mesmo valor de forma não ordenada"
   ]
  },
  {
   "cell_type": "markdown",
   "id": "2d0c8216",
   "metadata": {},
   "source": [
    "# Dictionaries (Dicionários)"
   ]
  },
  {
   "cell_type": "markdown",
   "id": "19723c10",
   "metadata": {},
   "source": [
    "- Dicionários armazenam pares de chave-valor, onde cada chave é única. São usados para mapear ou associar dados.\n",
    "- Use dicionários para armazenar e recuperar dados rapidamente com base em uma chave."
   ]
  },
  {
   "cell_type": "code",
   "execution_count": null,
   "id": "b2e08407",
   "metadata": {},
   "outputs": [
    {
     "data": {
      "text/plain": [
       "'Alice'"
      ]
     },
     "execution_count": 5,
     "metadata": {},
     "output_type": "execute_result"
    }
   ],
   "source": [
    "meu_dict = {\"nome\": \"Alice\", \"idade\": 25, \"profissao\": \"Engenheira\"}\n",
    "\n",
    "meu_dict[\"nome\"] #Fazer acesso\n",
    "#meu_dict[\"idade\"] = 26 #Adicionar ou modificar\n",
    "#del meu_dict[\"profissao\"] #Remoção \n",
    "\n",
    "#Possui outros metodos como, keys(), values(), items(), get(), pop(), update()"
   ]
  },
  {
   "cell_type": "markdown",
   "id": "bd9fac4e",
   "metadata": {},
   "source": [
    "# Estruturas de Repetição"
   ]
  },
  {
   "cell_type": "markdown",
   "id": "f09714dc",
   "metadata": {},
   "source": [
    "Existem duas estruturas de repetição dentro do python para usarmos, sendo elas o for e o while."
   ]
  },
  {
   "cell_type": "markdown",
   "id": "f47568cf",
   "metadata": {},
   "source": [
    "## Estruturas de Repetição Determinadas"
   ]
  },
  {
   "cell_type": "markdown",
   "id": "30af6d07",
   "metadata": {},
   "source": [
    "- Determinadas (`for`): O número de repetições é conhecido e controlado por uma sequência ou intervalo."
   ]
  },
  {
   "cell_type": "code",
   "execution_count": null,
   "id": "3b6db478",
   "metadata": {},
   "outputs": [],
   "source": [
    "#Simples processo de repetição com o for\n",
    "frutas = ['maçã', 'banana', 'cereja'] #Um array\n",
    "for fruta in frutas: #Enquanto ouver valores dentro de frutas, ele armazena em fruta e depois repete até terminar\n",
    "    print(fruta) #print de cada valor dentro do loop\n",
    "\n",
    "#Com numero\n",
    "for i in range(5):\n",
    "    print(i) #print com contagem de até 5\n"
   ]
  },
  {
   "cell_type": "markdown",
   "id": "b7beba0d",
   "metadata": {},
   "source": [
    "## Estruturas de Repetição Indeterminadas"
   ]
  },
  {
   "cell_type": "markdown",
   "id": "708703f9",
   "metadata": {},
   "source": [
    "- Indeterminadas (`while`): O número de repetições depende de uma condição que pode mudar durante a execução."
   ]
  },
  {
   "cell_type": "code",
   "execution_count": null,
   "id": "62c6aa9b",
   "metadata": {},
   "outputs": [],
   "source": [
    "contador = 0\n",
    "while contador < 5: #Enquanro for menor que 5, vai continuar em loop\n",
    "    print(contador)\n",
    "    contador += 1 #sempre aumentar o valor após o loop"
   ]
  }
 ],
 "metadata": {
  "kernelspec": {
   "display_name": "Python 3",
   "language": "python",
   "name": "python3"
  },
  "language_info": {
   "codemirror_mode": {
    "name": "ipython",
    "version": 3
   },
   "file_extension": ".py",
   "mimetype": "text/x-python",
   "name": "python",
   "nbconvert_exporter": "python",
   "pygments_lexer": "ipython3",
   "version": "3.13.1"
  }
 },
 "nbformat": 4,
 "nbformat_minor": 5
}
