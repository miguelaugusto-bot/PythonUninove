{
 "cells": [
  {
   "cell_type": "markdown",
   "id": "5b26bf21",
   "metadata": {},
   "source": [
    "# Aula 7 - Classificação - 26/09/25"
   ]
  },
  {
   "cell_type": "markdown",
   "id": "dc933263",
   "metadata": {},
   "source": [
    "# Machine Learning"
   ]
  },
  {
   "cell_type": "markdown",
   "id": "ff5efca6",
   "metadata": {},
   "source": []
  }
 ],
 "metadata": {
  "language_info": {
   "name": "python"
  }
 },
 "nbformat": 4,
 "nbformat_minor": 5
}
